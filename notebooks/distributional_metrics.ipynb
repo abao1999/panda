{
 "cells": [
  {
   "cell_type": "code",
   "execution_count": null,
   "metadata": {},
   "outputs": [],
   "source": [
    "%load_ext autoreload\n",
    "%autoreload 2"
   ]
  },
  {
   "cell_type": "code",
   "execution_count": null,
   "metadata": {},
   "outputs": [],
   "source": [
    "import os\n",
    "import time\n",
    "\n",
    "import dysts.flows as flows\n",
    "import matplotlib.pyplot as plt\n",
    "import numpy as np\n",
    "import torch\n",
    "from dysts.analysis import max_lyapunov_exponent_rosenstein  # type: ignore\n",
    "\n",
    "from panda.chronos.pipeline import ChronosPipeline\n",
    "from panda.patchtst.pipeline import PatchTSTPipeline\n",
    "from panda.utils import (\n",
    "    apply_custom_style,\n",
    "    get_system_filepaths,\n",
    "    load_trajectory_from_arrow,\n",
    "    make_clean_projection,\n",
    "    plot_3d_and_univariate,\n",
    "    safe_standardize,\n",
    ")"
   ]
  },
  {
   "cell_type": "code",
   "execution_count": null,
   "metadata": {},
   "outputs": [],
   "source": [
    "apply_custom_style(\"../config/plotting.yaml\")"
   ]
  },
  {
   "cell_type": "code",
   "execution_count": null,
   "metadata": {},
   "outputs": [],
   "source": [
    "WORK_DIR = os.getenv(\"WORK\", \"\")\n",
    "DATA_DIR = os.path.join(WORK_DIR, \"data\")"
   ]
  },
  {
   "cell_type": "code",
   "execution_count": null,
   "metadata": {},
   "outputs": [],
   "source": [
    "split_name = \"improved/final_base40\"\n",
    "# system_name = \"Coullet_AnishchenkoAstakhov\"\n",
    "# system_name = \"ForcedBrusselator_Rossler\"\n",
    "system_name = \"LorenzStenflo\""
   ]
  },
  {
   "cell_type": "code",
   "execution_count": null,
   "metadata": {},
   "outputs": [],
   "source": [
    "if \"_\" in system_name:\n",
    "    driver_name, response_name = system_name.split(\"_\")\n",
    "else:\n",
    "    driver_name, response_name = None, None\n",
    "print(driver_name)\n",
    "print(response_name)"
   ]
  },
  {
   "cell_type": "code",
   "execution_count": null,
   "metadata": {},
   "outputs": [],
   "source": [
    "split_dir = os.path.join(DATA_DIR, split_name)\n",
    "print(split_dir)\n",
    "files_lst = get_system_filepaths(system_name, split_dir, split=\"test_zeroshot\")\n",
    "\n",
    "print(files_lst)\n",
    "\n",
    "sample_idx = 0\n",
    "filepath = files_lst[sample_idx]"
   ]
  },
  {
   "cell_type": "code",
   "execution_count": null,
   "metadata": {},
   "outputs": [],
   "source": [
    "transient_time = 0\n",
    "dyst_coords, _ = load_trajectory_from_arrow(filepath)\n",
    "dyst_coords = dyst_coords[:, transient_time:]"
   ]
  },
  {
   "cell_type": "code",
   "execution_count": null,
   "metadata": {},
   "outputs": [],
   "source": [
    "standardize = False\n",
    "if standardize:\n",
    "    dyst_coords = safe_standardize(dyst_coords)"
   ]
  },
  {
   "cell_type": "code",
   "execution_count": null,
   "metadata": {},
   "outputs": [],
   "source": [
    "dyst_coords.shape"
   ]
  },
  {
   "cell_type": "code",
   "execution_count": null,
   "metadata": {},
   "outputs": [],
   "source": [
    "plot_3d_and_univariate(\n",
    "    dyst_coords[:, :None],\n",
    "    figsize=(6, 8),\n",
    "    plot_kwargs={\"linewidth\": 0.5, \"alpha\": 0.8},\n",
    "    custom_colors=[\"tab:blue\"],\n",
    "    # plot_title=f\"{driver_name} + {response_name}\",\n",
    "    title_kwargs={\"fontsize\": 14, \"fontweight\": \"bold\"},\n",
    ")"
   ]
  },
  {
   "cell_type": "markdown",
   "metadata": {},
   "source": [
    "### Lyapunov Spectrum"
   ]
  },
  {
   "cell_type": "code",
   "execution_count": null,
   "metadata": {},
   "outputs": [],
   "source": [
    "from panda.utils import lyap_wolf"
   ]
  },
  {
   "cell_type": "code",
   "execution_count": null,
   "metadata": {},
   "outputs": [],
   "source": [
    "sys = getattr(flows, \"Lorenz\")()\n",
    "print(f\"dt = {sys.dt}\")\n",
    "print(f\"1 / dt = {1 / sys.dt}\")"
   ]
  },
  {
   "cell_type": "code",
   "execution_count": null,
   "metadata": {},
   "outputs": [],
   "source": [
    "# Faster version, check with cell below (longer, more accurate)\n",
    "# Compute Lyapunov exponents\n",
    "start_time = time.time()\n",
    "lambdas = lyap_wolf(f=sys.rhs, x0=sys.ic, dt=0.01, jac=None, n_steps=10_000)\n",
    "end_time = time.time()\n",
    "print(f\"Time taken: {end_time - start_time:.2f} seconds\")\n",
    "print(\"Lyapunov spectrum:\", lambdas)"
   ]
  },
  {
   "cell_type": "code",
   "execution_count": null,
   "metadata": {},
   "outputs": [],
   "source": [
    "n_steps = int(100 // sys.dt)  # just a heuristic\n",
    "print(f\"Using {n_steps} steps...\")\n",
    "\n",
    "has_jac = sys.has_jacobian and sys._jac.__dict__ != {}\n",
    "\n",
    "if has_jac:\n",
    "    print(\"Jacobian is available\")\n",
    "    print(f\"Jacobian: {sys.jac(sys.ic, 0.0)}\")\n",
    "else:\n",
    "    print(\"Jacobian is not available\")\n",
    "\n",
    "# Compute Lyapunov exponents\n",
    "lambdas = lyap_wolf(\n",
    "    f=sys.rhs,\n",
    "    x0=sys.ic,\n",
    "    dt=sys.dt,\n",
    "    jac=sys.jac if has_jac else None,\n",
    "    n_steps=n_steps,\n",
    ")\n",
    "\n",
    "print(\"Lyapunov spectrum:\", lambdas)"
   ]
  },
  {
   "cell_type": "code",
   "execution_count": null,
   "metadata": {},
   "outputs": [],
   "source": [
    "# 2 + lambdas[0] / abs(lambdas[2])"
   ]
  },
  {
   "cell_type": "markdown",
   "metadata": {},
   "source": [
    "### Rosenstein Max Lyapunov Exponent"
   ]
  },
  {
   "cell_type": "code",
   "execution_count": null,
   "metadata": {},
   "outputs": [],
   "source": [
    "# dyst_coords.shape"
   ]
  },
  {
   "cell_type": "code",
   "execution_count": null,
   "metadata": {},
   "outputs": [],
   "source": [
    "# # max_lyapunov_exponent_rosenstein(dyst_coords.T, trajectory_len=102)\n",
    "# max_lyapunov_exponent_rosenstein(dyst_coords.T)"
   ]
  },
  {
   "cell_type": "code",
   "execution_count": null,
   "metadata": {},
   "outputs": [],
   "source": [
    "# from nolds.measures import lyap_r"
   ]
  },
  {
   "cell_type": "code",
   "execution_count": null,
   "metadata": {},
   "outputs": [],
   "source": [
    "# lyap_r(\n",
    "#     dyst_coords[0],\n",
    "#     emb_dim=10,\n",
    "#     lag=None,\n",
    "#     min_tsep=None,\n",
    "#     tau=1,\n",
    "#     min_neighbors=20,\n",
    "#     trajectory_len=20,\n",
    "#     debug_plot=True,\n",
    "# )"
   ]
  },
  {
   "cell_type": "markdown",
   "metadata": {},
   "source": [
    "# Forecasts"
   ]
  },
  {
   "cell_type": "code",
   "execution_count": null,
   "metadata": {},
   "outputs": [],
   "source": [
    "run_name = \"pft_chattn_emb_w_poly-0\"\n",
    "# run_name = \"panda_nh12_dmodel768_mixedp-4\"\n",
    "# run_name = \"panda_nh10_dmodel640-1\"\n",
    "# # run_name = \"pft_polyfeats_repro-0\"\n",
    "\n",
    "pft_model = PatchTSTPipeline.from_pretrained(\n",
    "    mode=\"predict\",\n",
    "    pretrain_path=f\"/stor/work/AMDG_Gilpin_Summer2024/checkpoints/{run_name}/checkpoint-final\",\n",
    "    device_map=\"cuda:0\",\n",
    ")\n",
    "panda_kwargs = {\n",
    "    \"limit_prediction_length\": False,\n",
    "    \"sliding_context\": True,\n",
    "    \"is_chronos\": False,\n",
    "}"
   ]
  },
  {
   "cell_type": "code",
   "execution_count": null,
   "metadata": {},
   "outputs": [],
   "source": [
    "chronos_kwargs = {\n",
    "    \"is_chronos\": True,\n",
    "    \"limit_prediction_length\": False,\n",
    "    \"num_samples\": 10,\n",
    "    \"deterministic\": False,\n",
    "}\n",
    "\n",
    "chronos_sft_run_name = \"chronos_t5_mini_ft-0\"\n",
    "\n",
    "chronos_sft = ChronosPipeline.from_pretrained(\n",
    "    f\"/stor/work/AMDG_Gilpin_Summer2024/checkpoints/{chronos_sft_run_name}/checkpoint-final\",\n",
    "    device_map=\"cuda:3\",\n",
    "    torch_dtype=torch.float32,\n",
    ")"
   ]
  },
  {
   "cell_type": "code",
   "execution_count": null,
   "metadata": {},
   "outputs": [],
   "source": [
    "def get_model_prediction(\n",
    "    model,\n",
    "    context: np.ndarray,\n",
    "    groundtruth: np.ndarray,\n",
    "    prediction_length: int,\n",
    "    is_chronos: bool = False,\n",
    "    title: str | None = None,\n",
    "    save_path: str | None = None,\n",
    "    show_plot: bool = True,\n",
    "    figsize: tuple[int, int] = (6, 8),\n",
    "    color: str = \"red\",\n",
    "    verbose: bool = True,\n",
    "    **kwargs,\n",
    ") -> tuple[np.ndarray, float]:\n",
    "    context_tensor = (\n",
    "        torch.from_numpy(context.T if not is_chronos else context).float()\n",
    "        # .to(model.device)\n",
    "    )\n",
    "    if not is_chronos:\n",
    "        context_tensor = context_tensor[None, ...]\n",
    "\n",
    "    start_time = time.time()\n",
    "    pred = (\n",
    "        model.predict(context_tensor, prediction_length, **kwargs)\n",
    "        .squeeze()\n",
    "        .cpu()\n",
    "        .numpy()\n",
    "    )\n",
    "    elapsed_time = time.time() - start_time\n",
    "\n",
    "    if is_chronos:\n",
    "        if not kwargs.get(\"deterministic\", False):\n",
    "            pred = np.median(pred, axis=1)\n",
    "        pred = pred.T\n",
    "\n",
    "    if verbose:\n",
    "        print(f\"context tensor shape: {context_tensor.shape}\")\n",
    "        print(f\"context tensor device: {context_tensor.device}\")\n",
    "        print(f\"pred shape: {pred.shape}\")\n",
    "        print(f\"Prediction time: {elapsed_time:.4f} seconds\")\n",
    "\n",
    "    if show_plot:\n",
    "        total_length = context.shape[1] + prediction_length\n",
    "        context_ts = np.arange(context.shape[1]) / total_length\n",
    "        pred_ts = np.arange(context.shape[1], total_length) / total_length\n",
    "\n",
    "        # Add the last time point of context to the beginning of groundtruth\n",
    "        # This ensures continuity between context and groundtruth in the plot\n",
    "        if context.shape[1] > 0 and groundtruth.shape[1] > 0:\n",
    "            last_context_point = context[:, -1][\n",
    "                :, np.newaxis\n",
    "            ]  # Get last point and reshape to column vector\n",
    "            groundtruth = np.hstack(\n",
    "                (last_context_point, groundtruth)\n",
    "            )  # Prepend to groundtruth\n",
    "\n",
    "            # Prepend last context point to prediction timeline and data for continuity\n",
    "            pred_ts = np.concatenate(([context_ts[-1]], pred_ts))\n",
    "            if pred.shape[0] + 1 == len(pred_ts):\n",
    "                pred = np.vstack((context[:, -1], pred))\n",
    "\n",
    "        # Create figure with gridspec layout\n",
    "        fig = plt.figure(figsize=figsize)\n",
    "\n",
    "        # Create main grid with padding for colorbar\n",
    "        outer_grid = fig.add_gridspec(2, 1, height_ratios=[0.65, 0.35], hspace=-0.1)\n",
    "\n",
    "        # Create sub-grid for the plots\n",
    "        gs = outer_grid[1].subgridspec(\n",
    "            3, 1, height_ratios=[0.2] * 3, wspace=0, hspace=0\n",
    "        )\n",
    "        ax_3d = fig.add_subplot(outer_grid[0], projection=\"3d\")\n",
    "\n",
    "        ax_3d.plot(*context[:3], alpha=0.5, color=\"black\", label=\"Context\")\n",
    "        ax_3d.plot(*groundtruth[:3], linestyle=\"-\", color=\"black\", label=\"Groundtruth\")\n",
    "        ax_3d.plot(*pred.T[:3], color=color, label=\"Prediction\")\n",
    "        # make_arrow_axes(ax_3d)\n",
    "        make_clean_projection(ax_3d)\n",
    "\n",
    "        if title is not None:\n",
    "            title_name = title.replace(\"_\", \" \")\n",
    "            ax_3d.set_title(title_name, fontweight=\"bold\")\n",
    "\n",
    "        axes_1d = [fig.add_subplot(gs[i, 0]) for i in range(3)]\n",
    "        for i, ax in enumerate(axes_1d):\n",
    "            ax.plot(context_ts, context[i], alpha=0.5, color=\"black\")\n",
    "            ax.plot(pred_ts, groundtruth[i], linestyle=\"-\", color=\"black\")\n",
    "            ax.plot(pred_ts, pred[:, i], color=color)\n",
    "            ax.set_xticks([])\n",
    "            ax.set_yticks([])\n",
    "            ax.set_aspect(\"auto\")\n",
    "\n",
    "        if save_path is not None:\n",
    "            os.makedirs(os.path.dirname(save_path), exist_ok=True)\n",
    "            print(f\"saving fig to: {save_path}\")\n",
    "            plt.savefig(save_path, bbox_inches=\"tight\")\n",
    "    pred = pred.T\n",
    "    return pred, elapsed_time"
   ]
  },
  {
   "cell_type": "code",
   "execution_count": null,
   "metadata": {},
   "outputs": [],
   "source": [
    "context_length = 512\n",
    "prediction_length = 512\n",
    "\n",
    "start_time = 512\n",
    "end_time = start_time + context_length"
   ]
  },
  {
   "cell_type": "code",
   "execution_count": null,
   "metadata": {},
   "outputs": [],
   "source": [
    "context = dyst_coords[:, start_time:end_time]\n",
    "groundtruth = dyst_coords[:, end_time : end_time + prediction_length]\n",
    "print(f\"context shape: {context.shape}\")\n",
    "print(f\"groundtruth shape: {groundtruth.shape}\")"
   ]
  },
  {
   "cell_type": "code",
   "execution_count": null,
   "metadata": {},
   "outputs": [],
   "source": [
    "save_path = os.path.join(\n",
    "    \"../figures/panda/\",\n",
    "    f\"{system_name}_sample{sample_idx}_context{start_time}-{end_time}_pred{prediction_length}_run1.pdf\",\n",
    ")\n",
    "\n",
    "panda_pred, panda_elapsed_time = get_model_prediction(\n",
    "    pft_model,\n",
    "    context,\n",
    "    groundtruth,\n",
    "    prediction_length,\n",
    "    verbose=True,\n",
    "    show_plot=True,\n",
    "    save_path=save_path,\n",
    "    **panda_kwargs,\n",
    ")"
   ]
  },
  {
   "cell_type": "code",
   "execution_count": null,
   "metadata": {},
   "outputs": [],
   "source": [
    "save_path = os.path.join(\n",
    "    \"../figures/chronos_sft\",\n",
    "    f\"{system_name}_sample{sample_idx}_context{start_time}-{end_time}_pred{prediction_length}_nsamples-{chronos_kwargs['num_samples']}_run2.pdf\",\n",
    ")\n",
    "\n",
    "chronos_sft_pred, chronos_sft_elapsed_time = get_model_prediction(\n",
    "    chronos_sft,\n",
    "    context,\n",
    "    groundtruth,\n",
    "    prediction_length,\n",
    "    verbose=True,\n",
    "    show_plot=True,\n",
    "    save_path=save_path,\n",
    "    color=\"tab:blue\",\n",
    "    **chronos_kwargs,\n",
    ")"
   ]
  },
  {
   "cell_type": "code",
   "execution_count": null,
   "metadata": {},
   "outputs": [],
   "source": [
    "chronos_sft_pred.shape"
   ]
  },
  {
   "cell_type": "code",
   "execution_count": null,
   "metadata": {},
   "outputs": [],
   "source": [
    "dyst_coords.shape"
   ]
  },
  {
   "cell_type": "code",
   "execution_count": null,
   "metadata": {},
   "outputs": [],
   "source": [
    "max_lyapunov_exponent_rosenstein(groundtruth.T)"
   ]
  },
  {
   "cell_type": "code",
   "execution_count": null,
   "metadata": {},
   "outputs": [],
   "source": [
    "panda_pred.shape"
   ]
  },
  {
   "cell_type": "code",
   "execution_count": null,
   "metadata": {},
   "outputs": [],
   "source": [
    "max_lyapunov_exponent_rosenstein(panda_pred.T)"
   ]
  },
  {
   "cell_type": "code",
   "execution_count": null,
   "metadata": {},
   "outputs": [],
   "source": [
    "max_lyapunov_exponent_rosenstein(chronos_sft_pred.T)"
   ]
  },
  {
   "cell_type": "markdown",
   "metadata": {},
   "source": [
    "### Distributional Metrics"
   ]
  },
  {
   "cell_type": "code",
   "execution_count": null,
   "metadata": {},
   "outputs": [],
   "source": [
    "from dysts.metrics import (  # type: ignore\n",
    "    average_hellinger_distance,\n",
    "    estimate_kl_divergence,\n",
    ")"
   ]
  },
  {
   "cell_type": "code",
   "execution_count": null,
   "metadata": {},
   "outputs": [],
   "source": [
    "dyst_coords.shape"
   ]
  },
  {
   "cell_type": "code",
   "execution_count": null,
   "metadata": {},
   "outputs": [],
   "source": [
    "estimate_kl_divergence(dyst_coords.T, panda_pred.T, n_samples=10_000)"
   ]
  },
  {
   "cell_type": "code",
   "execution_count": null,
   "metadata": {},
   "outputs": [],
   "source": [
    "estimate_kl_divergence(dyst_coords.T, chronos_sft_pred.T, n_samples=10_000)"
   ]
  },
  {
   "cell_type": "code",
   "execution_count": null,
   "metadata": {},
   "outputs": [],
   "source": [
    "# average_hellinger_distance(groundtruth.T, panda_pred.T)\n",
    "average_hellinger_distance(groundtruth.T, panda_pred.T)"
   ]
  },
  {
   "cell_type": "code",
   "execution_count": null,
   "metadata": {},
   "outputs": [],
   "source": [
    "average_hellinger_distance(groundtruth.T, chronos_sft_pred.T)"
   ]
  },
  {
   "cell_type": "code",
   "execution_count": null,
   "metadata": {},
   "outputs": [],
   "source": [
    "average_hellinger_distance(dyst_coords.T, panda_pred.T)"
   ]
  },
  {
   "cell_type": "code",
   "execution_count": null,
   "metadata": {},
   "outputs": [],
   "source": [
    "average_hellinger_distance(dyst_coords.T, chronos_sft_pred.T)"
   ]
  },
  {
   "cell_type": "code",
   "execution_count": null,
   "metadata": {},
   "outputs": [],
   "source": [
    "panda_pred.T[:128].shape"
   ]
  },
  {
   "cell_type": "code",
   "execution_count": null,
   "metadata": {},
   "outputs": [],
   "source": [
    "average_hellinger_distance(dyst_coords.T, panda_pred.T[:256])"
   ]
  },
  {
   "cell_type": "code",
   "execution_count": null,
   "metadata": {},
   "outputs": [],
   "source": [
    "estimate_kl_divergence(dyst_coords.T, chronos_sft_pred.T[:256], n_samples=10_000)"
   ]
  }
 ],
 "metadata": {
  "kernelspec": {
   "display_name": "dystformer",
   "language": "python",
   "name": "python3"
  },
  "language_info": {
   "codemirror_mode": {
    "name": "ipython",
    "version": 3
   },
   "file_extension": ".py",
   "mimetype": "text/x-python",
   "name": "python",
   "nbconvert_exporter": "python",
   "pygments_lexer": "ipython3",
   "version": "3.10.14"
  }
 },
 "nbformat": 4,
 "nbformat_minor": 2
}
