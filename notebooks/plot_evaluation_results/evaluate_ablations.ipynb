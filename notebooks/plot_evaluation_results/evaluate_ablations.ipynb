{
 "cells": [
  {
   "cell_type": "code",
   "execution_count": null,
   "metadata": {},
   "outputs": [],
   "source": [
    "%load_ext autoreload\n",
    "%autoreload 2"
   ]
  },
  {
   "cell_type": "code",
   "execution_count": null,
   "metadata": {},
   "outputs": [],
   "source": [
    "import os\n",
    "from collections import defaultdict\n",
    "\n",
    "import matplotlib.lines as mlines\n",
    "import matplotlib.pyplot as plt\n",
    "import numpy as np\n",
    "import pandas as pd\n",
    "from matplotlib import colors as mcolors\n",
    "from matplotlib.legend_handler import HandlerLine2D\n",
    "\n",
    "from panda.utils.eval_utils import get_summary_metrics_dict\n",
    "from panda.utils.plot_utils import (\n",
    "    apply_custom_style,\n",
    "    make_box_plot,\n",
    "    plot_all_metrics_by_prediction_length,\n",
    ")\n",
    "\n",
    "apply_custom_style(\"../../config/plotting.yaml\")"
   ]
  },
  {
   "cell_type": "code",
   "execution_count": null,
   "metadata": {},
   "outputs": [],
   "source": [
    "figs_save_dir = os.path.join(\"../../figures\", \"eval_metrics\")\n",
    "os.makedirs(figs_save_dir, exist_ok=True)"
   ]
  },
  {
   "cell_type": "code",
   "execution_count": null,
   "metadata": {},
   "outputs": [],
   "source": [
    "WORK_DIR = os.getenv(\"WORK\", \"\")\n",
    "DATA_DIR = os.path.join(WORK_DIR, \"data\")"
   ]
  },
  {
   "cell_type": "code",
   "execution_count": null,
   "metadata": {},
   "outputs": [],
   "source": [
    "# data_split = \"final_skew40/test_zeroshot\"\n",
    "data_split = \"test_zeroshot\"  # includes test_zeroshot for skew and base systems, and z5_z10 splits as well\n",
    "\n",
    "run_names_chattn = {\n",
    "    # \"Chattn + PolyEmbedLinAttn\": \"pft_linattnpolyemb_from_scratch-0\",\n",
    "    \"Chattn + MLM + RFF\": \"pft_stand_rff_only_pretrained-0\",\n",
    "    # \"Chattn + MLM + PolyEmbed\": \"pft_chattn_fullemb_pretrained-0\",\n",
    "    # \"Chattn + MLM + PolyEmbed\": \"pft_chattn_fullemb_quartic_enc-0\",\n",
    "    \"Chattn + MLM\": \"pft_chattn_noembed_pretrained_correct-0\",\n",
    "    \"Chattn + RFF\": \"pft_rff496_proj-0\",\n",
    "    \"Chattn + PolyEmbed\": \"pft_chattn_emb_w_poly-0\",\n",
    "    \"Chattn\": \"pft_stand_chattn_noemb-0\",\n",
    "}\n",
    "\n",
    "run_names_no_chattn = {\n",
    "    \"Univar (wider) + RFF\": \"pft_emb_equal_param_univariate_from_scratch-0\",\n",
    "    \"Univar (wider)\": \"pft_noemb_equal_param_univariate_from_scratch-0\",\n",
    "    \"Univar (deeper)\": \"pft_equal_param_deeper_univariate_from_scratch_noemb-0\",\n",
    "    \"Univar + MLM + RFF\": \"pft_rff_univariate_pretrained-0\",\n",
    "    \"Univar + MLM\": \"pft_vanilla_pretrained_correct-0\",\n",
    "}\n",
    "\n",
    "run_names = {\n",
    "    **run_names_chattn,\n",
    "    **run_names_no_chattn,\n",
    "}\n",
    "\n",
    "run_metrics_dirs_all_groups = {\n",
    "    \"chattn\": {\n",
    "        run_abbrv: os.path.join(\n",
    "            WORK_DIR,\n",
    "            \"eval_results\",\n",
    "            \"patchtst\",\n",
    "            f\"{run_name}\",\n",
    "            data_split,\n",
    "        )\n",
    "        for run_abbrv, run_name in run_names_chattn.items()\n",
    "    },\n",
    "    \"no_chattn\": {\n",
    "        run_abbrv: os.path.join(\n",
    "            WORK_DIR,\n",
    "            \"eval_results\",\n",
    "            \"patchtst\",\n",
    "            f\"{run_name}\",\n",
    "            data_split,\n",
    "        )\n",
    "        for run_abbrv, run_name in run_names_no_chattn.items()\n",
    "    },\n",
    "}"
   ]
  },
  {
   "cell_type": "code",
   "execution_count": null,
   "metadata": {},
   "outputs": [],
   "source": [
    "run_metrics_dirs_all_groups[\"no_chattn\"].keys()"
   ]
  },
  {
   "cell_type": "code",
   "execution_count": null,
   "metadata": {},
   "outputs": [],
   "source": [
    "metrics_all = defaultdict(lambda: defaultdict(dict))\n",
    "for run_group, run_metrics_dir_dict in run_metrics_dirs_all_groups.items():\n",
    "    print(f\"Run group: {run_group}\")\n",
    "    for run_abbrv, run_metrics_dir in run_metrics_dir_dict.items():\n",
    "        if not os.path.exists(run_metrics_dir):\n",
    "            print(f\"Run metrics dir does not exist: {run_metrics_dir}\")\n",
    "            continue\n",
    "        run_abbrv = str(run_abbrv)\n",
    "        print(f\"{run_abbrv}: {run_metrics_dir}\")\n",
    "        for file in sorted(\n",
    "            os.listdir(run_metrics_dir),\n",
    "            key=lambda x: int(x.split(\"_pred\")[1].split(\".csv\")[0]),\n",
    "        ):\n",
    "            if file.endswith(\".csv\"):\n",
    "                prediction_length = int(file.split(\"_pred\")[1].split(\".csv\")[0])\n",
    "                # print(f\"Prediction length: {prediction_length} for {run_abbrv}\")\n",
    "                with open(os.path.join(run_metrics_dir, file)) as f:\n",
    "                    metrics = pd.read_csv(f).to_dict()\n",
    "                    metrics_all[run_group][run_abbrv][prediction_length] = metrics"
   ]
  },
  {
   "cell_type": "code",
   "execution_count": null,
   "metadata": {},
   "outputs": [],
   "source": [
    "metrics_all[\"no_chattn\"].keys()"
   ]
  },
  {
   "cell_type": "code",
   "execution_count": null,
   "metadata": {},
   "outputs": [],
   "source": [
    "metrics_all.keys()"
   ]
  },
  {
   "cell_type": "code",
   "execution_count": null,
   "metadata": {},
   "outputs": [],
   "source": [
    "unrolled_metrics_all_groups = defaultdict(lambda: defaultdict(dict))\n",
    "for run_group, all_metrics_of_run_group in metrics_all.items():\n",
    "    print(run_group)\n",
    "    for run_abbrv, all_metrics_of_run_abbrv in all_metrics_of_run_group.items():\n",
    "        print(run_abbrv)\n",
    "        for run_name, metrics in all_metrics_of_run_abbrv.items():\n",
    "            print(run_name)\n",
    "            systems = metrics.pop(\"system\")\n",
    "            # metrics_unrolled = {\n",
    "            #     k: list(v.values()) for k, v in metrics.items() if k != \"spearman\"\n",
    "            # }\n",
    "            metrics_unrolled = {k: list(v.values()) for k, v in metrics.items()}\n",
    "            print(metrics_unrolled.keys())\n",
    "            unrolled_metrics_all_groups[run_group][run_abbrv][run_name] = metrics_unrolled"
   ]
  },
  {
   "cell_type": "code",
   "execution_count": null,
   "metadata": {},
   "outputs": [],
   "source": [
    "unrolled_metrics_all_combined = {\n",
    "    **unrolled_metrics_all_groups[\"chattn\"],\n",
    "    **unrolled_metrics_all_groups[\"no_chattn\"],\n",
    "}"
   ]
  },
  {
   "cell_type": "code",
   "execution_count": null,
   "metadata": {},
   "outputs": [],
   "source": [
    "unrolled_metrics_all_groups[\"no_chattn\"].keys()"
   ]
  },
  {
   "cell_type": "code",
   "execution_count": null,
   "metadata": {},
   "outputs": [],
   "source": [
    "run_metrics_dirs_all_groups.keys()"
   ]
  },
  {
   "cell_type": "code",
   "execution_count": null,
   "metadata": {},
   "outputs": [],
   "source": [
    "metric_names_chosen = [\"mse\", \"mae\", \"smape\", \"spearman\"]"
   ]
  },
  {
   "cell_type": "code",
   "execution_count": null,
   "metadata": {},
   "outputs": [],
   "source": [
    "all_metrics_dict = defaultdict(dict)\n",
    "\n",
    "for run_group in run_metrics_dirs_all_groups.keys():\n",
    "    all_metrics_dict[run_group] = {\n",
    "        metrics_name: get_summary_metrics_dict(unrolled_metrics_all_groups[run_group], metrics_name)[0]\n",
    "        for metrics_name in metric_names_chosen\n",
    "    }"
   ]
  },
  {
   "cell_type": "code",
   "execution_count": null,
   "metadata": {},
   "outputs": [],
   "source": [
    "default_colors = plt.cm.tab10.colors"
   ]
  },
  {
   "cell_type": "code",
   "execution_count": null,
   "metadata": {},
   "outputs": [],
   "source": [
    "n_runs_chattn = len(run_metrics_dirs_all_groups[\"chattn\"].keys())\n",
    "n_runs_no_chattn = len(run_metrics_dirs_all_groups[\"no_chattn\"].keys())"
   ]
  },
  {
   "cell_type": "code",
   "execution_count": null,
   "metadata": {},
   "outputs": [],
   "source": [
    "bar_colors_chattn = plt.cm.Reds(np.linspace(0.75, 0.1, n_runs_chattn)).tolist()\n",
    "print(bar_colors_chattn)\n",
    "bar_colors_no_chattn = plt.cm.Greys(np.linspace(0.75, 0.1, n_runs_no_chattn)).tolist()\n",
    "print(bar_colors_no_chattn)\n",
    "bar_colors = bar_colors_chattn + bar_colors_no_chattn"
   ]
  },
  {
   "cell_type": "code",
   "execution_count": null,
   "metadata": {},
   "outputs": [],
   "source": [
    "selected_pred_length = 128"
   ]
  },
  {
   "cell_type": "code",
   "execution_count": null,
   "metadata": {},
   "outputs": [],
   "source": [
    "legend_handles = make_box_plot(\n",
    "    unrolled_metrics=unrolled_metrics_all_combined,\n",
    "    prediction_length=selected_pred_length,\n",
    "    metric_to_plot=\"smape\",  # Specify which metric to plot\n",
    "    sort_runs=True,  # Optionally sort runs by their metric values\n",
    "    colors=bar_colors,\n",
    "    # title=rf\"$L_{{pred}}$ = {selected_pred_length}\",\n",
    "    title_kwargs={\"fontsize\": 10},\n",
    "    save_path=f\"ablations_figs/smape_{selected_pred_length}.pdf\",\n",
    "    ylabel_fontsize=12,\n",
    "    show_xlabel=False,\n",
    "    box_percentile_range=(40, 60),\n",
    "    whisker_percentile_range=(30, 70),\n",
    "    alpha_val=0.8,\n",
    "    fig_kwargs={\"figsize\": (3.2, 5)},\n",
    ")"
   ]
  },
  {
   "cell_type": "code",
   "execution_count": null,
   "metadata": {},
   "outputs": [],
   "source": [
    "plt.figure(figsize=(3, 5))\n",
    "\n",
    "# Group the legend handles and labels\n",
    "channel_attention_handles = legend_handles[:n_runs_chattn]  # First 4 handles for channel attention\n",
    "univariate_handles = legend_handles[n_runs_chattn:]  # Last 4 handles for univariate\n",
    "\n",
    "# Create section headers with bold text and visible lines\n",
    "channel_attention_header = mlines.Line2D([0], [0], color=\"black\", label=\"Multivariate\", linewidth=0)\n",
    "univariate_header = mlines.Line2D([0], [0], color=\"black\", label=\"Univariate\", linewidth=0)\n",
    "\n",
    "# Create an empty line for spacing\n",
    "spacer = mlines.Line2D([0], [0], color=\"none\", label=\" \", linewidth=0)\n",
    "\n",
    "# Combine headers and handles with spacer\n",
    "all_handles = (\n",
    "    [channel_attention_header]\n",
    "    + channel_attention_handles\n",
    "    + [spacer]  # Add spacer between sections\n",
    "    + [univariate_header]\n",
    "    + univariate_handles\n",
    ")\n",
    "\n",
    "# Add the legend with the combined handles\n",
    "legend = plt.legend(\n",
    "    handles=all_handles,\n",
    "    loc=\"upper center\",\n",
    "    frameon=True,\n",
    "    ncol=1,\n",
    "    framealpha=1.0,\n",
    "    fontsize=14,\n",
    "    handler_map={\n",
    "        channel_attention_header: HandlerLine2D(),\n",
    "        univariate_header: HandlerLine2D(),\n",
    "        spacer: HandlerLine2D(),\n",
    "    },\n",
    ")\n",
    "\n",
    "# Make section headers bold and add underlines\n",
    "for text in legend.get_texts():\n",
    "    if text.get_text() in [\"Multivariate\", \"Univariate\"]:\n",
    "        text.set_fontweight(\"bold\")\n",
    "        text.set_ha(\"left\")  # Align text to the left\n",
    "        text.set_position((0, 0))  # Remove indentation\n",
    "\n",
    "plt.xticks([])\n",
    "plt.yticks([])\n",
    "plt.tight_layout(pad=0)\n",
    "plt.savefig(\n",
    "    f\"ablations_figs/ablations_legend_vertical_{selected_pred_length}.pdf\",\n",
    "    bbox_inches=\"tight\",\n",
    ")\n",
    "plt.show()\n",
    "plt.close()"
   ]
  },
  {
   "cell_type": "code",
   "execution_count": null,
   "metadata": {},
   "outputs": [],
   "source": [
    "plt.figure(figsize=(5, 2))\n",
    "\n",
    "# Group the legend handles and labels\n",
    "channel_attention_handles = legend_handles[:n_runs_chattn]  # First 4 handles for channel attention\n",
    "univariate_handles = legend_handles[n_runs_chattn:]  # Last 4 handles for univariate\n",
    "\n",
    "# Create section headers with bold text and visible lines\n",
    "channel_attention_header = mlines.Line2D([0], [0], color=\"black\", label=\"Multivariate\", linewidth=0)\n",
    "univariate_header = mlines.Line2D([0], [0], color=\"black\", label=\"Univariate\", linewidth=0)\n",
    "\n",
    "# Create an empty line for spacing\n",
    "spacer = mlines.Line2D([0], [0], color=\"none\", label=\" \", linewidth=0)\n",
    "\n",
    "# Combine headers and handles with spacer\n",
    "all_handles = [channel_attention_header] + channel_attention_handles + [univariate_header] + univariate_handles\n",
    "\n",
    "# Add the legend with the combined handles\n",
    "legend = plt.legend(\n",
    "    handles=all_handles,\n",
    "    loc=\"upper center\",\n",
    "    frameon=True,\n",
    "    ncol=2,\n",
    "    framealpha=1.0,\n",
    "    fontsize=14,\n",
    "    handler_map={\n",
    "        channel_attention_header: HandlerLine2D(),\n",
    "        univariate_header: HandlerLine2D(),\n",
    "        spacer: HandlerLine2D(),\n",
    "    },\n",
    ")\n",
    "\n",
    "# Make section headers bold and add underlines\n",
    "for text in legend.get_texts():\n",
    "    if text.get_text() in [\"Multivariate\", \"Univariate\"]:\n",
    "        text.set_fontweight(\"bold\")\n",
    "        text.set_ha(\"left\")  # Align text to the left\n",
    "        text.set_position((0, 0))  # Remove indentation\n",
    "\n",
    "plt.xticks([])\n",
    "plt.yticks([])\n",
    "plt.tight_layout(pad=0)\n",
    "plt.savefig(\n",
    "    f\"ablations_figs/ablations_legend_horizontal_{selected_pred_length}.pdf\",\n",
    "    bbox_inches=\"tight\",\n",
    ")\n",
    "plt.show()\n",
    "plt.close()"
   ]
  },
  {
   "cell_type": "code",
   "execution_count": null,
   "metadata": {},
   "outputs": [],
   "source": [
    "plt.figure(figsize=(5, 2))\n",
    "\n",
    "# Group the legend handles and labels\n",
    "channel_attention_handles = legend_handles[:n_runs_chattn]  # First 4 handles for channel attention\n",
    "univariate_handles = legend_handles[n_runs_chattn:]  # Last 4 handles for univariate\n",
    "\n",
    "# Create section headers with bold text and visible lines\n",
    "channel_attention_header = mlines.Line2D([0], [0], color=\"black\", label=\"Multivariate\", linewidth=0)\n",
    "univariate_header = mlines.Line2D([0], [0], color=\"black\", label=\"Univariate\", linewidth=0)\n",
    "\n",
    "# Create an empty line for spacing\n",
    "spacer = mlines.Line2D([0], [0], color=\"none\", label=\" \", linewidth=0)\n",
    "\n",
    "# Combine headers and handles with spacer\n",
    "all_handles = [channel_attention_header] + channel_attention_handles + [univariate_header] + univariate_handles\n",
    "\n",
    "# Add the legend with the combined handles\n",
    "legend = plt.legend(\n",
    "    handles=all_handles,\n",
    "    loc=\"upper center\",\n",
    "    frameon=True,\n",
    "    ncol=4,\n",
    "    framealpha=1.0,\n",
    "    fontsize=14,\n",
    "    handler_map={\n",
    "        channel_attention_header: HandlerLine2D(),\n",
    "        univariate_header: HandlerLine2D(),\n",
    "        spacer: HandlerLine2D(),\n",
    "    },\n",
    ")\n",
    "\n",
    "# Make section headers bold and add underlines\n",
    "for text in legend.get_texts():\n",
    "    if text.get_text() in [\"Multivariate\", \"Univariate\"]:\n",
    "        text.set_fontweight(\"bold\")\n",
    "        text.set_ha(\"left\")  # Align text to the left\n",
    "        text.set_position((0, 0))  # Remove indentation\n",
    "\n",
    "plt.xticks([])\n",
    "plt.yticks([])\n",
    "plt.tight_layout(pad=0)\n",
    "plt.savefig(\n",
    "    f\"ablations_figs/ablations_legend_horizontal_{selected_pred_length}_v2.pdf\",\n",
    "    bbox_inches=\"tight\",\n",
    ")\n",
    "plt.show()\n",
    "plt.close()"
   ]
  },
  {
   "cell_type": "code",
   "execution_count": null,
   "metadata": {},
   "outputs": [],
   "source": [
    "for metric_to_plot in metric_names_chosen:\n",
    "    make_box_plot(\n",
    "        unrolled_metrics=unrolled_metrics_all_combined,\n",
    "        prediction_length=selected_pred_length,\n",
    "        metric_to_plot=metric_to_plot,  # Specify which metric to plot\n",
    "        sort_runs=True,  # Optionally sort runs by their metric values\n",
    "        colors=bar_colors,\n",
    "        title=None,\n",
    "        title_kwargs={\"fontsize\": 10},\n",
    "        order_by_metric=\"smape\",\n",
    "        save_path=f\"ablations_figs/{metric_to_plot}_{selected_pred_length}.pdf\",\n",
    "        ylabel_fontsize=12,\n",
    "        show_xlabel=False,\n",
    "        show_legend=False,\n",
    "        legend_kwargs={\n",
    "            \"loc\": \"upper left\",\n",
    "            \"frameon\": True,\n",
    "            \"ncol\": 1,\n",
    "            \"framealpha\": 0.8,\n",
    "            # \"prop\": {\"weight\": \"bold\", \"size\": 5},\n",
    "            \"prop\": {\"size\": 6.8},\n",
    "        },\n",
    "        box_percentile_range=(40, 60),\n",
    "        whisker_percentile_range=(25, 75),\n",
    "        alpha_val=0.8,\n",
    "        fig_kwargs={\"figsize\": (3.2, 5)},\n",
    "        use_inv_spearman=True,\n",
    "    )"
   ]
  },
  {
   "cell_type": "code",
   "execution_count": null,
   "metadata": {},
   "outputs": [],
   "source": [
    "custom_colors_dict = {}\n",
    "for i, patch in enumerate(legend_handles):\n",
    "    color = patch.get_facecolor()\n",
    "    hex_color = mcolors.rgb2hex(color)\n",
    "    run_name = patch.get_label()\n",
    "    print(run_name, hex_color)\n",
    "    custom_colors_dict[run_name] = hex_color"
   ]
  },
  {
   "cell_type": "code",
   "execution_count": null,
   "metadata": {},
   "outputs": [],
   "source": [
    "all_metrics_dict.keys()"
   ]
  },
  {
   "cell_type": "code",
   "execution_count": null,
   "metadata": {},
   "outputs": [],
   "source": [
    "all_metrics_dict[\"chattn\"][\"smape\"]"
   ]
  },
  {
   "cell_type": "code",
   "execution_count": null,
   "metadata": {},
   "outputs": [],
   "source": [
    "all_metrics_dict_all = {\n",
    "    metrics_name: {\n",
    "        **all_metrics_dict[\"chattn\"][metrics_name],\n",
    "        **all_metrics_dict[\"no_chattn\"][metrics_name],\n",
    "    }\n",
    "    for metrics_name in metric_names_chosen\n",
    "}"
   ]
  },
  {
   "cell_type": "code",
   "execution_count": null,
   "metadata": {},
   "outputs": [],
   "source": [
    "all_metrics_dict_all[\"smape\"].keys()"
   ]
  },
  {
   "cell_type": "code",
   "execution_count": null,
   "metadata": {},
   "outputs": [],
   "source": [
    "custom_colors_dict"
   ]
  },
  {
   "cell_type": "code",
   "execution_count": null,
   "metadata": {},
   "outputs": [],
   "source": [
    "all_metrics_dict_all[\"smape\"].keys()"
   ]
  },
  {
   "cell_type": "code",
   "execution_count": null,
   "metadata": {},
   "outputs": [],
   "source": [
    "## weird bug here?\n",
    "plot_all_metrics_by_prediction_length(\n",
    "    all_metrics_dict[\"chattn\"],\n",
    "    [\"mse\", \"mae\", \"smape\"],\n",
    "    # metrics_to_show_std_envelope=[\"smape\", \"spearman\"],\n",
    "    n_rows=1,\n",
    "    n_cols=4,\n",
    "    colors=custom_colors_dict,\n",
    "    show_legend=False,\n",
    ")"
   ]
  },
  {
   "cell_type": "markdown",
   "metadata": {},
   "source": [
    "### Now make ablations box plot for pred length 512 (rollout) using the same legend handles as 128"
   ]
  },
  {
   "cell_type": "code",
   "execution_count": null,
   "metadata": {},
   "outputs": [],
   "source": [
    "legend_handles[0].get_facecolor()"
   ]
  },
  {
   "cell_type": "code",
   "execution_count": null,
   "metadata": {},
   "outputs": [],
   "source": [
    "legend_handles[0].get_label()"
   ]
  },
  {
   "cell_type": "code",
   "execution_count": null,
   "metadata": {},
   "outputs": [],
   "source": [
    "# write custom colors dict mapping key (label of legend handle) to color (facecolor of legend handle)\n",
    "custom_colors_dict = {}\n",
    "for i, patch in enumerate(legend_handles):\n",
    "    color = patch.get_facecolor()\n",
    "    hex_color = mcolors.rgb2hex(color)\n",
    "    run_name = patch.get_label()\n",
    "    print(run_name, hex_color)\n",
    "    custom_colors_dict[run_name] = hex_color"
   ]
  },
  {
   "cell_type": "code",
   "execution_count": null,
   "metadata": {},
   "outputs": [],
   "source": [
    "custom_colors_dict.keys()"
   ]
  },
  {
   "cell_type": "code",
   "execution_count": null,
   "metadata": {},
   "outputs": [],
   "source": [
    "selected_pred_length = 512\n",
    "\n",
    "legend_handles_rollout = make_box_plot(\n",
    "    unrolled_metrics=unrolled_metrics_all_combined,\n",
    "    prediction_length=selected_pred_length,\n",
    "    metric_to_plot=\"smape\",  # Specify which metric to plot\n",
    "    sort_runs=True,  # Optionally sort runs by their metric values\n",
    "    colors=custom_colors_dict,\n",
    "    # title=rf\"$L_{{pred}}$ = {selected_pred_length}\",\n",
    "    title_kwargs={\"fontsize\": 10},\n",
    "    save_path=f\"ablations_figs/smape_{selected_pred_length}.pdf\",\n",
    "    ylabel_fontsize=12,\n",
    "    show_xlabel=False,\n",
    "    box_percentile_range=(40, 60),\n",
    "    whisker_percentile_range=(30, 70),\n",
    "    alpha_val=0.8,\n",
    "    fig_kwargs={\"figsize\": (3.2, 5)},\n",
    ")"
   ]
  },
  {
   "cell_type": "code",
   "execution_count": null,
   "metadata": {},
   "outputs": [],
   "source": [
    "# for metric_to_plot in metric_names_chosen:\n",
    "#     make_box_plot(\n",
    "#         unrolled_metrics=unrolled_metrics_all_combined,\n",
    "#         prediction_length=selected_pred_length,\n",
    "#         metric_to_plot=metric_to_plot,  # Specify which metric to plot\n",
    "#         sort_runs=True,  # Optionally sort runs by their metric values\n",
    "#         colors=custom_colors_dict,\n",
    "#         # title=rf\"$L_{{pred}}$ = {selected_pred_length}\",\n",
    "#         title_kwargs={\"fontsize\": 10},\n",
    "#         save_path=f\"ablations_figs/{metric_to_plot}_{selected_pred_length}.pdf\",\n",
    "#         ylabel_fontsize=12,\n",
    "#         show_xlabel=False,\n",
    "#         box_percentile_range=(40, 60),\n",
    "#         whisker_percentile_range=(30, 70),\n",
    "#         alpha_val=0.8,\n",
    "#         fig_kwargs={\"figsize\": (3.2, 5)},\n",
    "#         use_inv_spearman=True,\n",
    "#     )"
   ]
  },
  {
   "cell_type": "code",
   "execution_count": null,
   "metadata": {},
   "outputs": [],
   "source": [
    "plt.figure(figsize=(3, 5))\n",
    "\n",
    "# Group the legend handles and labels\n",
    "channel_attention_handles = legend_handles_rollout[:n_runs_chattn]  # First 4 handles for channel attention\n",
    "univariate_handles = legend_handles_rollout[n_runs_chattn:]  # Last 4 handles for univariate\n",
    "\n",
    "# Create section headers with bold text and visible lines\n",
    "channel_attention_header = mlines.Line2D([0], [0], color=\"black\", label=\"Multivariate\", linewidth=0)\n",
    "univariate_header = mlines.Line2D([0], [0], color=\"black\", label=\"Univariate\", linewidth=0)\n",
    "\n",
    "# Create an empty line for spacing\n",
    "spacer = mlines.Line2D([0], [0], color=\"none\", label=\" \", linewidth=0)\n",
    "\n",
    "# Combine headers and handles with spacer\n",
    "all_handles = (\n",
    "    [channel_attention_header]\n",
    "    + channel_attention_handles\n",
    "    + [spacer]  # Add spacer between sections\n",
    "    + [univariate_header]\n",
    "    + univariate_handles\n",
    ")\n",
    "\n",
    "# Add the legend with the combined handles\n",
    "legend = plt.legend(\n",
    "    handles=all_handles,\n",
    "    loc=\"upper center\",\n",
    "    frameon=True,\n",
    "    ncol=1,\n",
    "    framealpha=1.0,\n",
    "    fontsize=14,\n",
    "    handler_map={\n",
    "        channel_attention_header: HandlerLine2D(),\n",
    "        univariate_header: HandlerLine2D(),\n",
    "        spacer: HandlerLine2D(),\n",
    "    },\n",
    ")\n",
    "\n",
    "# Make section headers bold and add underlines\n",
    "for text in legend.get_texts():\n",
    "    if text.get_text() in [\"Multivariate\", \"Univariate\"]:\n",
    "        text.set_fontweight(\"bold\")\n",
    "        text.set_ha(\"left\")  # Align text to the left\n",
    "        text.set_position((0, 0))  # Remove indentation\n",
    "\n",
    "plt.xticks([])\n",
    "plt.yticks([])\n",
    "plt.tight_layout(pad=0)\n",
    "plt.savefig(\n",
    "    f\"ablations_figs/ablations_legend_rollout_vertical_{selected_pred_length}.pdf\",\n",
    "    bbox_inches=\"tight\",\n",
    ")\n",
    "plt.show()\n",
    "plt.close()"
   ]
  }
 ],
 "metadata": {
  "kernelspec": {
   "display_name": "dystformer",
   "language": "python",
   "name": "python3"
  },
  "language_info": {
   "codemirror_mode": {
    "name": "ipython",
    "version": 3
   },
   "file_extension": ".py",
   "mimetype": "text/x-python",
   "name": "python",
   "nbconvert_exporter": "python",
   "pygments_lexer": "ipython3",
   "version": "3.10.14"
  }
 },
 "nbformat": 4,
 "nbformat_minor": 2
}
