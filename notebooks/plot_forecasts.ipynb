{
 "cells": [
  {
   "cell_type": "code",
   "execution_count": null,
   "metadata": {},
   "outputs": [],
   "source": [
    "%load_ext autoreload\n",
    "%autoreload 2"
   ]
  },
  {
   "cell_type": "code",
   "execution_count": null,
   "metadata": {},
   "outputs": [],
   "source": [
    "import os\n",
    "\n",
    "import matplotlib.pyplot as plt\n",
    "import numpy as np\n",
    "import torch\n",
    "\n",
    "from panda.patchtst.pipeline import PatchTSTPipeline\n",
    "from panda.utils import (\n",
    "    apply_custom_style,\n",
    "    get_system_filepaths,\n",
    "    load_trajectory_from_arrow,\n",
    "    make_clean_projection,\n",
    ")"
   ]
  },
  {
   "cell_type": "code",
   "execution_count": null,
   "metadata": {},
   "outputs": [],
   "source": [
    "# Apply matplotlib style from config\n",
    "apply_custom_style(\"../config/plotting.yaml\")"
   ]
  },
  {
   "cell_type": "code",
   "execution_count": null,
   "metadata": {},
   "outputs": [],
   "source": [
    "# run_name = \"pft_rff496_proj-0\"\n",
    "run_name = \"pft_chattn_emb_w_poly-0\"  # NOTE: this is still the best\n",
    "# run_name = \"pft_chattn_noembed_pretrained_correct-0\"\n",
    "pft_model = PatchTSTPipeline.from_pretrained(\n",
    "    mode=\"predict\",\n",
    "    pretrain_path=f\"/stor/work/AMDG_Gilpin_Summer2024/checkpoints/{run_name}/checkpoint-final\",\n",
    "    device_map=\"cuda:0\",\n",
    ")"
   ]
  },
  {
   "cell_type": "code",
   "execution_count": null,
   "metadata": {},
   "outputs": [],
   "source": [
    "pft_model.model.model.encoder.layers[0]"
   ]
  },
  {
   "cell_type": "code",
   "execution_count": null,
   "metadata": {},
   "outputs": [],
   "source": [
    "def plot_model_prediction(\n",
    "    model,\n",
    "    context: np.ndarray,\n",
    "    groundtruth: np.ndarray,\n",
    "    prediction_length: int,\n",
    "    title: str | None = None,\n",
    "    save_path: str | None = None,\n",
    "    show_plot: bool = True,\n",
    "    figsize: tuple[int, int] = (6, 8),\n",
    "    **kwargs,\n",
    "):\n",
    "    context_tensor = torch.from_numpy(context.T).float().to(model.device)[None, ...]\n",
    "    print(f\"context_tensor shape: {context_tensor.shape}\")\n",
    "    pred = (\n",
    "        model.predict(context_tensor, prediction_length, **kwargs)\n",
    "        .squeeze()\n",
    "        .cpu()\n",
    "        .numpy()\n",
    "    )\n",
    "    total_length = context.shape[1] + prediction_length\n",
    "    context_ts = np.arange(context.shape[1]) / total_length\n",
    "    pred_ts = np.arange(context.shape[1], total_length) / total_length\n",
    "\n",
    "    # Add the last time point of context to the beginning of groundtruth\n",
    "    # This ensures continuity between context and groundtruth in the plot\n",
    "    if context.shape[1] > 0 and groundtruth.shape[1] > 0:\n",
    "        last_context_point = context[:, -1][\n",
    "            :, np.newaxis\n",
    "        ]  # Get last point and reshape to column vector\n",
    "        groundtruth = np.hstack(\n",
    "            (last_context_point, groundtruth)\n",
    "        )  # Prepend to groundtruth\n",
    "\n",
    "        # Prepend last context point to prediction timeline and data for continuity\n",
    "        pred_ts = np.concatenate(([context_ts[-1]], pred_ts))\n",
    "        if pred.shape[0] + 1 == len(pred_ts):\n",
    "            pred = np.vstack((context[:, -1], pred))\n",
    "\n",
    "    # Create figure with gridspec layout\n",
    "    fig = plt.figure(figsize=figsize)\n",
    "\n",
    "    # Create main grid with padding for colorbar\n",
    "    outer_grid = fig.add_gridspec(2, 1, height_ratios=[0.65, 0.35], hspace=-0.1)\n",
    "\n",
    "    # Create sub-grid for the plots\n",
    "    gs = outer_grid[1].subgridspec(3, 1, height_ratios=[0.2] * 3, wspace=0, hspace=0)\n",
    "    ax_3d = fig.add_subplot(outer_grid[0], projection=\"3d\")\n",
    "\n",
    "    ax_3d.plot(*context[:3], alpha=0.5, color=\"black\", label=\"Context\")\n",
    "    ax_3d.plot(*groundtruth[:3], linestyle=\"-\", color=\"black\", label=\"Groundtruth\")\n",
    "    ax_3d.plot(*pred.T[:3], color=\"red\", label=\"Prediction\")\n",
    "    # make_arrow_axes(ax_3d)\n",
    "    make_clean_projection(ax_3d)\n",
    "\n",
    "    if title is not None:\n",
    "        title_name = title.replace(\"_\", \" \")\n",
    "        ax_3d.set_title(title_name, fontweight=\"bold\")\n",
    "\n",
    "    axes_1d = [fig.add_subplot(gs[i, 0]) for i in range(3)]\n",
    "    for i, ax in enumerate(axes_1d):\n",
    "        ax.plot(context_ts, context[i], alpha=0.5, color=\"black\")\n",
    "        ax.plot(pred_ts, groundtruth[i], linestyle=\"-\", color=\"black\")\n",
    "        ax.plot(pred_ts, pred[:, i], color=\"red\")\n",
    "        ax.set_xticks([])\n",
    "        ax.set_yticks([])\n",
    "        ax.set_aspect(\"auto\")\n",
    "\n",
    "    if save_path is not None:\n",
    "        os.makedirs(os.path.dirname(save_path), exist_ok=True)\n",
    "        print(f\"saving fig to: {save_path}\")\n",
    "        plt.savefig(save_path, bbox_inches=\"tight\")\n",
    "    if show_plot:\n",
    "        plt.show()\n",
    "    plt.close()"
   ]
  },
  {
   "cell_type": "code",
   "execution_count": null,
   "metadata": {},
   "outputs": [],
   "source": [
    "split = \"final_skew40\"\n",
    "test_data_dir = f\"/stor/work/AMDG_Gilpin_Summer2024/data/improved/{split}\"\n",
    "subsplit = \"test_zeroshot\""
   ]
  },
  {
   "cell_type": "code",
   "execution_count": null,
   "metadata": {},
   "outputs": [],
   "source": [
    "test_system_subdirs = os.listdir(os.path.join(test_data_dir, subsplit))\n",
    "test_system_subdirs = [\n",
    "    d\n",
    "    for d in test_system_subdirs\n",
    "    if os.path.isdir(os.path.join(test_data_dir, subsplit, d))\n",
    "]\n",
    "print(len(test_system_subdirs))"
   ]
  },
  {
   "cell_type": "code",
   "execution_count": null,
   "metadata": {},
   "outputs": [],
   "source": [
    "# select random 10 systems from test_system_subdirs\n",
    "selected_pair_names = np.random.choice(test_system_subdirs, 5, replace=False)\n",
    "print(selected_pair_names)"
   ]
  },
  {
   "cell_type": "code",
   "execution_count": null,
   "metadata": {},
   "outputs": [],
   "source": [
    "# (sample_idx, start_time, prediction_length, subsample_interval) assuming context_length = 512\n",
    "# choice of start_time=1024 is arbitrary, just to cut off transient if it happens to exist even after filtering\n",
    "# choice of prediction_length=256 is also arbtirary, but make sure it is a multiple of 128, the prediction length we trained for\n",
    "chosen_forecast_settings = {\n",
    "    pair_name: (0, 1024, 256, 1) for pair_name in selected_pair_names\n",
    "}"
   ]
  },
  {
   "cell_type": "code",
   "execution_count": null,
   "metadata": {},
   "outputs": [],
   "source": [
    "print(len(chosen_forecast_settings.keys()))"
   ]
  },
  {
   "cell_type": "code",
   "execution_count": null,
   "metadata": {},
   "outputs": [],
   "source": [
    "context_length = 512\n",
    "save_forecasts = False\n",
    "\n",
    "for dyst_name, settings in chosen_forecast_settings.items():\n",
    "    sample_idx, start_time, pred_length, subsample_interval = settings\n",
    "\n",
    "    syspaths = get_system_filepaths(dyst_name, test_data_dir, subsplit)\n",
    "    trajectory, _ = load_trajectory_from_arrow(syspaths[sample_idx])\n",
    "    trajectory = trajectory[:, ::subsample_interval]\n",
    "\n",
    "    end_time = start_time + context_length\n",
    "\n",
    "    save_path = os.path.join(\n",
    "        \"../figures\",\n",
    "        run_name,\n",
    "        split,\n",
    "        subsplit,\n",
    "        f\"{dyst_name}_sample{sample_idx}_context{start_time}-{end_time}_pred{pred_length}_.pdf\",\n",
    "    )\n",
    "\n",
    "    plot_model_prediction(\n",
    "        pft_model,\n",
    "        trajectory[:, start_time:end_time],  # context\n",
    "        trajectory[:, end_time : end_time + pred_length],  # ground truth\n",
    "        pred_length,\n",
    "        limit_prediction_length=False,\n",
    "        sliding_context=True,\n",
    "        save_path=save_path if save_forecasts else None,\n",
    "        show_plot=True,\n",
    "        figsize=(6, 8),\n",
    "        # title=dyst_name,\n",
    "    )"
   ]
  },
  {
   "cell_type": "code",
   "execution_count": null,
   "metadata": {},
   "outputs": [],
   "source": []
  }
 ],
 "metadata": {
  "kernelspec": {
   "display_name": "dystformer",
   "language": "python",
   "name": "python3"
  },
  "language_info": {
   "codemirror_mode": {
    "name": "ipython",
    "version": 3
   },
   "file_extension": ".py",
   "mimetype": "text/x-python",
   "name": "python",
   "nbconvert_exporter": "python",
   "pygments_lexer": "ipython3",
   "version": "3.10.14"
  }
 },
 "nbformat": 4,
 "nbformat_minor": 2
}
