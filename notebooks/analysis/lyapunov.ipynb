{
 "cells": [
  {
   "cell_type": "code",
   "execution_count": null,
   "id": "0",
   "metadata": {},
   "outputs": [],
   "source": [
    "import json\n",
    "import os\n",
    "from typing import Any\n",
    "\n",
    "from panda.utils.dyst_utils import (\n",
    "    init_base_system_from_params,\n",
    "    init_skew_system_from_params,\n",
    ")"
   ]
  },
  {
   "cell_type": "code",
   "execution_count": null,
   "id": "1",
   "metadata": {},
   "outputs": [],
   "source": [
    "WORK_DIR = os.environ.get(\"WORK\", \"\")\n",
    "DATA_DIR = os.path.join(WORK_DIR, \"data\")\n",
    "\n",
    "dataset_names = [\"improved/final_skew40\", \"improved/final_base40\"]\n",
    "split_names = [\"test_zeroshot\", \"test_zeroshot_z5_z10\"]\n",
    "split_dir = [\n",
    "    os.path.join(DATA_DIR, ds, sn) for ds in dataset_names for sn in split_names\n",
    "]\n",
    "split_dir"
   ]
  },
  {
   "cell_type": "code",
   "execution_count": null,
   "id": "2",
   "metadata": {},
   "outputs": [],
   "source": [
    "def init_system(params_data: dict[str, Any], system_type: str = \"base\"):\n",
    "    init_fn = (\n",
    "        init_base_system_from_params\n",
    "        if system_type == \"base\"\n",
    "        else init_skew_system_from_params\n",
    "    )\n",
    "    systems = {}\n",
    "    for system_name, entries in params_data.items():\n",
    "        for i, param_dict in enumerate(entries):\n",
    "            try:\n",
    "                if system_type == \"skew\":\n",
    "                    driver_name, response_name = system_name.split(\"_\")\n",
    "                    sys = init_fn(driver_name, response_name, param_dict)\n",
    "                else:\n",
    "                    sys = init_fn(system_name, param_dict)\n",
    "                systems[system_name] = sys\n",
    "            except Exception as e:\n",
    "                print(f\"  Entry {i}: Failed to initialize - {e}\")\n",
    "\n",
    "    return systems\n"
   ]
  },
  {
   "cell_type": "code",
   "execution_count": null,
   "id": "3",
   "metadata": {},
   "outputs": [],
   "source": [
    "work_dir = os.environ.get(\"WORK\", \"/stor/work/AMDG_Gilpin_Summer2024\")\n",
    "base_params_file = (\n",
    "    f\"{work_dir}/data/improved/final_base40/parameters/test/filtered_params_dict.json\"\n",
    ")\n",
    "skew_params_file = f\"{work_dir}/data/improved/final_skew40/parameters/test_zeroshot/filtered_params_dict.json\"\n",
    "\n",
    "with open(base_params_file) as f:\n",
    "    base_params = json.load(f)\n",
    "\n",
    "with open(skew_params_file) as f:\n",
    "    skew_params = json.load(f)\n",
    "\n",
    "print(f\"Loaded {len(base_params)} systems from base params\")\n",
    "print(f\"Loaded {len(skew_params)} systems from skew params\")\n",
    "\n",
    "base_systems = init_system(base_params, \"base\")\n",
    "skew_systems = init_system(skew_params, \"skew\")\n",
    "all_systems = {**base_systems, **skew_systems}\n",
    "\n",
    "print(len(all_systems))"
   ]
  },
  {
   "cell_type": "code",
   "execution_count": null,
   "id": "4",
   "metadata": {},
   "outputs": [],
   "source": []
  }
 ],
 "metadata": {
  "kernelspec": {
   "display_name": "panda",
   "language": "python",
   "name": "python3"
  },
  "language_info": {
   "codemirror_mode": {
    "name": "ipython",
    "version": 3
   },
   "file_extension": ".py",
   "mimetype": "text/x-python",
   "name": "python",
   "nbconvert_exporter": "python",
   "pygments_lexer": "ipython3",
   "version": "3.11.9"
  }
 },
 "nbformat": 4,
 "nbformat_minor": 5
}
