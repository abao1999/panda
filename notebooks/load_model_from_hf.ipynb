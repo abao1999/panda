{
 "cells": [
  {
   "cell_type": "code",
   "execution_count": null,
   "metadata": {},
   "outputs": [],
   "source": [
    "%load_ext autoreload\n",
    "%autoreload 2"
   ]
  },
  {
   "cell_type": "code",
   "execution_count": null,
   "metadata": {},
   "outputs": [],
   "source": [
    "import json\n",
    "import os\n",
    "\n",
    "import matplotlib.pyplot as plt\n",
    "import numpy as np\n",
    "import torch\n",
    "\n",
    "from panda.utils.plot_utils import (\n",
    "    apply_custom_style,\n",
    "    make_clean_projection,\n",
    "    plot_grid_trajs_multivariate,\n",
    "    plot_trajs_multivariate,\n",
    ")\n",
    "\n",
    "apply_custom_style(\"../config/plotting.yaml\")"
   ]
  },
  {
   "cell_type": "markdown",
   "metadata": {},
   "source": [
    "## Load Model Checkpoint from HF"
   ]
  },
  {
   "cell_type": "code",
   "execution_count": null,
   "metadata": {},
   "outputs": [],
   "source": [
    "from panda.patchtst.pipeline import PatchTSTPipeline\n",
    "\n",
    "pft_model = PatchTSTPipeline.from_pretrained(\n",
    "    mode=\"predict\",\n",
    "    pretrain_path=\"GilpinLab/panda\",\n",
    "    device_map=\"cuda:1\",\n",
    ")"
   ]
  },
  {
   "cell_type": "markdown",
   "metadata": {},
   "source": [
    "## Make Trajectory"
   ]
  },
  {
   "cell_type": "code",
   "execution_count": null,
   "metadata": {},
   "outputs": [],
   "source": [
    "import dysts.flows as flows  # type: ignore"
   ]
  },
  {
   "cell_type": "markdown",
   "metadata": {},
   "source": [
    "### Make trajectory from one of our held-out base systems"
   ]
  },
  {
   "cell_type": "code",
   "execution_count": null,
   "metadata": {},
   "outputs": [],
   "source": [
    "dyst_name = \"QiChen\"  # one of the held-out systems not seen during training\n",
    "sys = getattr(flows, dyst_name)()"
   ]
  },
  {
   "cell_type": "code",
   "execution_count": null,
   "metadata": {},
   "outputs": [],
   "source": [
    "num_timesteps = 4096\n",
    "num_periods = 40\n",
    "\n",
    "ts, traj = sys.make_trajectory(\n",
    "    num_timesteps,\n",
    "    pts_per_period=num_timesteps // num_periods,\n",
    "    return_times=True,\n",
    "    atol=1e-10,\n",
    "    rtol=1e-8,\n",
    ")"
   ]
  },
  {
   "cell_type": "code",
   "execution_count": null,
   "metadata": {},
   "outputs": [],
   "source": [
    "traj.shape"
   ]
  },
  {
   "cell_type": "code",
   "execution_count": null,
   "metadata": {},
   "outputs": [],
   "source": [
    "plot_grid_trajs_multivariate(\n",
    "    {\"QiChen\": np.expand_dims(traj.T, axis=0)},\n",
    "    save_path=None,\n",
    "    sample_indices=[0],\n",
    "    n_rows_cols=(1, 1),\n",
    "    subplot_size=(4, 4),\n",
    "    row_col_padding=(0.0, 0.0),\n",
    "    plot_kwargs={\"linewidth\": 0.5, \"alpha\": 0.8},\n",
    "    title_kwargs={\"fontweight\": \"bold\"},\n",
    "    show_titles=False,\n",
    "    show_axes=True,\n",
    "    plot_projections=True,\n",
    "    projections_alpha=0.15,\n",
    ")"
   ]
  },
  {
   "cell_type": "markdown",
   "metadata": {},
   "source": [
    "## Forecast"
   ]
  },
  {
   "cell_type": "code",
   "execution_count": null,
   "metadata": {},
   "outputs": [],
   "source": [
    "def plot_model_prediction(\n",
    "    model,\n",
    "    context: np.ndarray,\n",
    "    groundtruth: np.ndarray,\n",
    "    prediction_length: int,\n",
    "    title: str | None = None,\n",
    "    save_path: str | None = None,\n",
    "    show_plot: bool = True,\n",
    "    figsize: tuple[int, int] = (6, 8),\n",
    "    **kwargs,\n",
    "):\n",
    "    context_tensor = torch.from_numpy(context.T).float().to(pft_model.device)[None, ...]\n",
    "    pred = model.predict(context_tensor, prediction_length, **kwargs).squeeze().cpu().numpy()\n",
    "    total_length = context.shape[1] + prediction_length\n",
    "    context_ts = np.arange(context.shape[1]) / total_length\n",
    "    pred_ts = np.arange(context.shape[1], total_length) / total_length\n",
    "\n",
    "    # Add the last time point of context to the beginning of groundtruth\n",
    "    # This ensures continuity between context and groundtruth in the plot\n",
    "    if context.shape[1] > 0 and groundtruth.shape[1] > 0:\n",
    "        last_context_point = context[:, -1][:, np.newaxis]  # Get last point and reshape to column vector\n",
    "        groundtruth = np.hstack((last_context_point, groundtruth))  # Prepend to groundtruth\n",
    "\n",
    "        # Prepend last context point to prediction timeline and data for continuity\n",
    "        pred_ts = np.concatenate(([context_ts[-1]], pred_ts))\n",
    "        if pred.shape[0] + 1 == len(pred_ts):\n",
    "            pred = np.vstack((context[:, -1], pred))\n",
    "\n",
    "    # Create figure with gridspec layout\n",
    "    fig = plt.figure(figsize=figsize)\n",
    "\n",
    "    # Create main grid with padding for colorbar\n",
    "    outer_grid = fig.add_gridspec(2, 1, height_ratios=[0.65, 0.35], hspace=-0.1)\n",
    "\n",
    "    # Create sub-grid for the plots\n",
    "    gs = outer_grid[1].subgridspec(3, 1, height_ratios=[0.2] * 3, wspace=0, hspace=0)\n",
    "    ax_3d = fig.add_subplot(outer_grid[0], projection=\"3d\")\n",
    "\n",
    "    ax_3d.plot(*context[:3], alpha=0.5, color=\"black\", label=\"Context\")\n",
    "    ax_3d.plot(*groundtruth[:3], linestyle=\"-\", color=\"black\", label=\"Groundtruth\")\n",
    "    ax_3d.plot(*pred.T[:3], color=\"red\", label=\"Prediction\")\n",
    "    # make_arrow_axes(ax_3d)\n",
    "    make_clean_projection(ax_3d)\n",
    "\n",
    "    if title is not None:\n",
    "        title_name = title.replace(\"_\", \" \")\n",
    "        ax_3d.set_title(title_name, fontweight=\"bold\")\n",
    "\n",
    "    axes_1d = [fig.add_subplot(gs[i, 0]) for i in range(3)]\n",
    "    for i, ax in enumerate(axes_1d):\n",
    "        ax.plot(context_ts, context[i], alpha=0.5, color=\"black\")\n",
    "        ax.plot(pred_ts, groundtruth[i], linestyle=\"-\", color=\"black\")\n",
    "        ax.plot(pred_ts, pred[:, i], color=\"red\")\n",
    "        ax.set_xticks([])\n",
    "        ax.set_yticks([])\n",
    "        ax.set_aspect(\"auto\")\n",
    "\n",
    "    if save_path is not None:\n",
    "        os.makedirs(os.path.dirname(save_path), exist_ok=True)\n",
    "        print(f\"saving fig to: {save_path}\")\n",
    "        plt.savefig(save_path, bbox_inches=\"tight\")\n",
    "    if show_plot:\n",
    "        plt.show()\n",
    "    plt.close()"
   ]
  },
  {
   "cell_type": "code",
   "execution_count": null,
   "metadata": {},
   "outputs": [],
   "source": [
    "context_length = 512\n",
    "sample_idx = 0\n",
    "start_time = 0  # start time of the context window\n",
    "pred_length = (\n",
    "    128  # make sure this is a multiple of 128, the prediction length we train for, for autoregressive rollout to work\n",
    ")\n",
    "subsample_interval = 1\n",
    "\n",
    "assert pred_length % 128 == 0, \"prediction length must be multiple of 128\"\n",
    "\n",
    "trajectory = traj.T[:, ::subsample_interval]\n",
    "\n",
    "end_time = start_time + context_length  # end time of context window\n",
    "\n",
    "\n",
    "plot_model_prediction(\n",
    "    pft_model,\n",
    "    trajectory[:, start_time:end_time],  # context\n",
    "    trajectory[:, end_time : end_time + pred_length],  # ground truth\n",
    "    pred_length,\n",
    "    limit_prediction_length=False,\n",
    "    sliding_context=True,\n",
    "    save_path=None,\n",
    "    show_plot=True,\n",
    "    figsize=(6, 8),\n",
    "    title=None,\n",
    ")"
   ]
  },
  {
   "cell_type": "markdown",
   "metadata": {},
   "source": [
    "## Extra: Make and Forecast Held-Out Skew System from Saved Parameters"
   ]
  },
  {
   "cell_type": "code",
   "execution_count": null,
   "metadata": {},
   "outputs": [],
   "source": [
    "from panda.utils import init_skew_system_from_params"
   ]
  },
  {
   "cell_type": "markdown",
   "metadata": {},
   "source": [
    "NOTE: all these saved parameters are of held-out skew systems not seen during training."
   ]
  },
  {
   "cell_type": "code",
   "execution_count": null,
   "metadata": {},
   "outputs": [],
   "source": [
    "params_dir = \"../data/params_test_zeroshot\""
   ]
  },
  {
   "cell_type": "code",
   "execution_count": null,
   "metadata": {},
   "outputs": [],
   "source": [
    "os.listdir(params_dir)"
   ]
  },
  {
   "cell_type": "code",
   "execution_count": null,
   "metadata": {},
   "outputs": [],
   "source": [
    "parameters_json_path_test = os.path.join(params_dir, \"filtered_params_dict.json\")"
   ]
  },
  {
   "cell_type": "code",
   "execution_count": null,
   "metadata": {},
   "outputs": [],
   "source": [
    "saved_params_dict_test = json.load(open(parameters_json_path_test))"
   ]
  },
  {
   "cell_type": "code",
   "execution_count": null,
   "metadata": {},
   "outputs": [],
   "source": [
    "saved_params_dict_test.keys()"
   ]
  },
  {
   "cell_type": "code",
   "execution_count": null,
   "metadata": {},
   "outputs": [],
   "source": [
    "print(f\"Found {len(saved_params_dict_test.keys())} systems with successful param perts\")"
   ]
  },
  {
   "cell_type": "markdown",
   "metadata": {},
   "source": [
    "### Make and Forecast Skew System Trajectory"
   ]
  },
  {
   "cell_type": "code",
   "execution_count": null,
   "metadata": {},
   "outputs": [],
   "source": [
    "skew_sys_name = \"HyperXu_SprottF\""
   ]
  },
  {
   "cell_type": "markdown",
   "metadata": {},
   "source": [
    "Load params and make trajectory"
   ]
  },
  {
   "cell_type": "code",
   "execution_count": null,
   "metadata": {},
   "outputs": [],
   "source": [
    "# Load parameters\n",
    "skew_sys_params = saved_params_dict_test[skew_sys_name][0]\n",
    "\n",
    "is_skew = \"_\" in skew_sys_name\n",
    "if is_skew:\n",
    "    driver_name, response_name = skew_sys_name.split(\"_\")\n",
    "    sys = init_skew_system_from_params(driver_name, response_name, skew_sys_params)\n",
    "else:\n",
    "    raise ValueError(f\"System {skew_sys_name} is not a skew system\")\n",
    "\n",
    "# Set initial condition\n",
    "sys.ic = np.array(skew_sys_params[\"ic\"])\n",
    "print(sys.ic)\n",
    "\n",
    "if not sys.has_jacobian():\n",
    "    print(f\"Jacobian not implemented for {skew_sys_name}\")\n",
    "\n",
    "\n",
    "# Make trajectory\n",
    "num_timesteps = 4096\n",
    "num_periods = 40\n",
    "\n",
    "ts, traj = sys.make_trajectory(\n",
    "    num_timesteps,\n",
    "    pts_per_period=num_timesteps // num_periods,\n",
    "    return_times=True,\n",
    "    atol=1e-10,\n",
    "    rtol=1e-8,\n",
    ")"
   ]
  },
  {
   "cell_type": "code",
   "execution_count": null,
   "metadata": {},
   "outputs": [],
   "source": [
    "transient_frac = 0.05\n",
    "transient_length = int(transient_frac * num_timesteps)\n",
    "\n",
    "trajectory_to_plot = traj[None, transient_length:, :].transpose(0, 2, 1)\n",
    "driver_coords = trajectory_to_plot[:, : sys.driver_dim]\n",
    "response_coords = trajectory_to_plot[:, sys.driver_dim :]\n",
    "for name, coords in [\n",
    "    (\"driver\", driver_coords),\n",
    "    (\"response\", response_coords),\n",
    "]:\n",
    "    plot_trajs_multivariate(\n",
    "        coords,\n",
    "        save_dir=None,\n",
    "        plot_name=f\"reconstructed_{skew_sys_name}_{name}\",\n",
    "        standardize=True,\n",
    "        plot_projections=False,\n",
    "        show_plot=True,\n",
    "    )\n",
    "\n",
    "skew_response_traj = traj[:, sys.driver_dim :]\n",
    "print(f\"Skew response trajectory shape: {skew_response_traj.shape}\")"
   ]
  },
  {
   "cell_type": "markdown",
   "metadata": {},
   "source": [
    "Forecast"
   ]
  },
  {
   "cell_type": "code",
   "execution_count": null,
   "metadata": {},
   "outputs": [],
   "source": [
    "context_length = 512\n",
    "sample_idx = 0\n",
    "start_time = 0  # start time of the context window\n",
    "pred_length = (\n",
    "    128  # make sure this is a multiple of 128, the prediction length we train for, for autoregressive rollout to work\n",
    ")\n",
    "subsample_interval = 1  # NOTE: subsampled by 2x\n",
    "\n",
    "assert pred_length % 128 == 0, \"prediction length must be multiple of 128\"\n",
    "\n",
    "skew_response_trajectory = skew_response_traj.T[:, ::subsample_interval]\n",
    "\n",
    "end_time = start_time + context_length  # end time of context window\n",
    "\n",
    "\n",
    "plot_model_prediction(\n",
    "    pft_model,\n",
    "    skew_response_trajectory[:, start_time:end_time],  # context\n",
    "    skew_response_trajectory[:, end_time : end_time + pred_length],  # ground truth\n",
    "    pred_length,\n",
    "    limit_prediction_length=False,\n",
    "    sliding_context=True,\n",
    "    save_path=None,\n",
    "    show_plot=True,\n",
    "    figsize=(6, 8),\n",
    "    title=None,\n",
    ")"
   ]
  },
  {
   "cell_type": "markdown",
   "metadata": {},
   "source": [
    "### Make and Forecast Another Skew System Trajectory"
   ]
  },
  {
   "cell_type": "code",
   "execution_count": null,
   "metadata": {},
   "outputs": [],
   "source": [
    "skew_sys_name = \"SprottA_Coullet\""
   ]
  },
  {
   "cell_type": "markdown",
   "metadata": {},
   "source": [
    "Load params and make trajectory"
   ]
  },
  {
   "cell_type": "code",
   "execution_count": null,
   "metadata": {},
   "outputs": [],
   "source": [
    "# Load parameters\n",
    "skew_sys_params = saved_params_dict_test[skew_sys_name][0]\n",
    "\n",
    "is_skew = \"_\" in skew_sys_name\n",
    "if is_skew:\n",
    "    driver_name, response_name = skew_sys_name.split(\"_\")\n",
    "    sys = init_skew_system_from_params(driver_name, response_name, skew_sys_params)\n",
    "else:\n",
    "    raise ValueError(f\"System {skew_sys_name} is not a skew system\")\n",
    "\n",
    "# Set initial condition\n",
    "sys.ic = np.array(skew_sys_params[\"ic\"])\n",
    "print(sys.ic)\n",
    "\n",
    "if not sys.has_jacobian():\n",
    "    print(f\"Jacobian not implemented for {skew_sys_name}\")\n",
    "\n",
    "\n",
    "# Make trajectory\n",
    "num_timesteps = 4096\n",
    "num_periods = 40\n",
    "\n",
    "ts, traj = sys.make_trajectory(\n",
    "    num_timesteps,\n",
    "    pts_per_period=num_timesteps // num_periods,\n",
    "    return_times=True,\n",
    "    atol=1e-10,\n",
    "    rtol=1e-8,\n",
    ")"
   ]
  },
  {
   "cell_type": "code",
   "execution_count": null,
   "metadata": {},
   "outputs": [],
   "source": [
    "transient_frac = 0.05\n",
    "transient_length = int(transient_frac * num_timesteps)\n",
    "\n",
    "trajectory_to_plot = traj[None, transient_length:, :].transpose(0, 2, 1)\n",
    "driver_coords = trajectory_to_plot[:, : sys.driver_dim]\n",
    "response_coords = trajectory_to_plot[:, sys.driver_dim :]\n",
    "for name, coords in [\n",
    "    (\"driver\", driver_coords),\n",
    "    (\"response\", response_coords),\n",
    "]:\n",
    "    plot_trajs_multivariate(\n",
    "        coords,\n",
    "        save_dir=None,\n",
    "        plot_name=f\"reconstructed_{skew_sys_name}_{name}\",\n",
    "        standardize=True,\n",
    "        plot_projections=False,\n",
    "        show_plot=True,\n",
    "    )\n",
    "\n",
    "skew_response_traj = traj[:, sys.driver_dim :]\n",
    "print(f\"Skew response trajectory shape: {skew_response_traj.shape}\")"
   ]
  },
  {
   "cell_type": "markdown",
   "metadata": {},
   "source": [
    "Forecast, but with subsampled coordinates (2x)"
   ]
  },
  {
   "cell_type": "code",
   "execution_count": null,
   "metadata": {},
   "outputs": [],
   "source": [
    "context_length = 512\n",
    "sample_idx = 0\n",
    "start_time = 1024  # start time of the context window\n",
    "pred_length = (\n",
    "    128  # make sure this is a multiple of 128, the prediction length we train for, for autoregressive rollout to work\n",
    ")\n",
    "subsample_interval = 2  # NOTE: subsampled by 2x\n",
    "\n",
    "assert pred_length % 128 == 0, \"prediction length must be multiple of 128\"\n",
    "\n",
    "skew_response_trajectory = skew_response_traj.T[:, ::subsample_interval]\n",
    "\n",
    "end_time = start_time + context_length  # end time of context window\n",
    "\n",
    "\n",
    "plot_model_prediction(\n",
    "    pft_model,\n",
    "    skew_response_trajectory[:, start_time:end_time],  # context\n",
    "    skew_response_trajectory[:, end_time : end_time + pred_length],  # ground truth\n",
    "    pred_length,\n",
    "    limit_prediction_length=False,\n",
    "    sliding_context=True,\n",
    "    save_path=None,\n",
    "    show_plot=True,\n",
    "    figsize=(6, 8),\n",
    "    title=None,\n",
    ")"
   ]
  }
 ],
 "metadata": {
  "kernelspec": {
   "display_name": ".venv",
   "language": "python",
   "name": "python3"
  },
  "language_info": {
   "codemirror_mode": {
    "name": "ipython",
    "version": 3
   },
   "file_extension": ".py",
   "mimetype": "text/x-python",
   "name": "python",
   "nbconvert_exporter": "python",
   "pygments_lexer": "ipython3",
   "version": "3.13.2"
  }
 },
 "nbformat": 4,
 "nbformat_minor": 2
}
