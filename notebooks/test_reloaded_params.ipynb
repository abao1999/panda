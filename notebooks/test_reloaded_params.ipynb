{
 "cells": [
  {
   "cell_type": "code",
   "execution_count": null,
   "metadata": {},
   "outputs": [],
   "source": [
    "%load_ext autoreload\n",
    "%autoreload 2"
   ]
  },
  {
   "cell_type": "code",
   "execution_count": null,
   "metadata": {},
   "outputs": [],
   "source": [
    "import json\n",
    "import os\n",
    "\n",
    "import dysts.flows as flows  # type: ignore\n",
    "import numpy as np\n",
    "\n",
    "from panda.utils import (\n",
    "    apply_custom_style,\n",
    "    check_dict_match,\n",
    "    init_skew_system_from_params,\n",
    "    load_dyst_samples,\n",
    "    plot_grid_trajs_multivariate,\n",
    "    test_system_jacobian,\n",
    ")"
   ]
  },
  {
   "cell_type": "code",
   "execution_count": null,
   "metadata": {},
   "outputs": [],
   "source": [
    "# Apply matplotlib style from config\n",
    "apply_custom_style(\"../config/plotting.yaml\")"
   ]
  },
  {
   "cell_type": "code",
   "execution_count": null,
   "metadata": {},
   "outputs": [],
   "source": [
    "rseed = 99\n",
    "rng = np.random.default_rng(rseed)"
   ]
  },
  {
   "cell_type": "code",
   "execution_count": null,
   "metadata": {},
   "outputs": [],
   "source": [
    "WORK_DIR = os.environ.get(\"WORK\", \"\")\n",
    "DATA_DIR = os.path.join(WORK_DIR, \"data\")"
   ]
  },
  {
   "cell_type": "markdown",
   "metadata": {},
   "source": [
    "### Set test system"
   ]
  },
  {
   "cell_type": "code",
   "execution_count": null,
   "metadata": {},
   "outputs": [],
   "source": [
    "# dataset_name = \"final_skew40_tanh_random\"\n",
    "dataset_name = \"improved/final_skew40\"\n",
    "split_name = \"test_zeroshot\"\n",
    "split_dir = os.path.join(DATA_DIR, dataset_name, split_name)"
   ]
  },
  {
   "cell_type": "code",
   "execution_count": null,
   "metadata": {},
   "outputs": [],
   "source": [
    "params_json_path = os.path.join(\n",
    "    DATA_DIR, f\"{dataset_name}/parameters/{split_name}\", \"filtered_params_dict.json\"\n",
    ")"
   ]
  },
  {
   "cell_type": "code",
   "execution_count": null,
   "metadata": {},
   "outputs": [],
   "source": [
    "reloaded_params_dicts = json.load(open(params_json_path))"
   ]
  },
  {
   "cell_type": "code",
   "execution_count": null,
   "metadata": {},
   "outputs": [],
   "source": [
    "system_idx = 2\n",
    "test_system_name = list(reloaded_params_dicts.keys())[system_idx]\n",
    "print(test_system_name)"
   ]
  },
  {
   "cell_type": "code",
   "execution_count": null,
   "metadata": {},
   "outputs": [],
   "source": [
    "sample_idx = 0"
   ]
  },
  {
   "cell_type": "markdown",
   "metadata": {},
   "source": [
    "### Plot trajectory from saved arrow file"
   ]
  },
  {
   "cell_type": "code",
   "execution_count": null,
   "metadata": {},
   "outputs": [],
   "source": [
    "test_dyst_traj = load_dyst_samples(\n",
    "    test_system_name,\n",
    "    data_dir=split_dir,\n",
    "    one_dim_target=False,\n",
    "    num_samples=(1 + sample_idx),\n",
    ")[sample_idx]  # type: ignore\n",
    "\n",
    "print(test_dyst_traj.shape)"
   ]
  },
  {
   "cell_type": "code",
   "execution_count": null,
   "metadata": {},
   "outputs": [],
   "source": [
    "print(test_dyst_traj.shape)"
   ]
  },
  {
   "cell_type": "code",
   "execution_count": null,
   "metadata": {},
   "outputs": [],
   "source": [
    "plot_grid_trajs_multivariate(\n",
    "    {test_system_name: test_dyst_traj[None, :, :]},\n",
    "    save_path=None,\n",
    "    subplot_size=(4, 4),\n",
    "    show_axes=True,\n",
    "    show_titles=True,\n",
    "    plot_projections=True,\n",
    "    projections_alpha=0.08,\n",
    "    plot_kwargs={\"linewidth\": 0.3},\n",
    ")"
   ]
  },
  {
   "cell_type": "markdown",
   "metadata": {},
   "source": [
    "### Load saved params"
   ]
  },
  {
   "cell_type": "code",
   "execution_count": null,
   "metadata": {},
   "outputs": [],
   "source": [
    "reloaded_test_params = reloaded_params_dicts[test_system_name][sample_idx]"
   ]
  },
  {
   "cell_type": "code",
   "execution_count": null,
   "metadata": {},
   "outputs": [],
   "source": [
    "reloaded_test_params"
   ]
  },
  {
   "cell_type": "code",
   "execution_count": null,
   "metadata": {},
   "outputs": [],
   "source": [
    "reloaded_test_params.keys()"
   ]
  },
  {
   "cell_type": "code",
   "execution_count": null,
   "metadata": {},
   "outputs": [],
   "source": [
    "reloaded_test_params[\"coupling_map\"]"
   ]
  },
  {
   "cell_type": "code",
   "execution_count": null,
   "metadata": {},
   "outputs": [],
   "source": [
    "is_skew = \"_\" in test_system_name\n",
    "if is_skew:\n",
    "    driver_name, response_name = test_system_name.split(\"_\")\n",
    "    sys = init_skew_system_from_params(\n",
    "        driver_name,\n",
    "        response_name,\n",
    "        reloaded_test_params,\n",
    "    )"
   ]
  },
  {
   "cell_type": "code",
   "execution_count": null,
   "metadata": {},
   "outputs": [],
   "source": [
    "sys.__dict__"
   ]
  },
  {
   "cell_type": "code",
   "execution_count": null,
   "metadata": {},
   "outputs": [],
   "source": [
    "print(f\"driver period: {sys.driver.period}\")\n",
    "print(f\"response period: {sys.response.period}\")\n",
    "print(f\"driver dt: {sys.driver.dt}\")\n",
    "print(f\"response dt: {sys.response.dt}\")"
   ]
  },
  {
   "cell_type": "code",
   "execution_count": null,
   "metadata": {},
   "outputs": [],
   "source": [
    "sys.params"
   ]
  },
  {
   "cell_type": "code",
   "execution_count": null,
   "metadata": {},
   "outputs": [],
   "source": [
    "sys.unbounded_indices"
   ]
  },
  {
   "cell_type": "code",
   "execution_count": null,
   "metadata": {},
   "outputs": [],
   "source": [
    "sys.params"
   ]
  },
  {
   "cell_type": "code",
   "execution_count": null,
   "metadata": {},
   "outputs": [],
   "source": [
    "serialized_coupling_map_params = sys.coupling_map._serialize()\n",
    "reloaded_coupling_map_params = reloaded_test_params[\"coupling_map\"]\n",
    "\n",
    "\n",
    "check_dict_match(reloaded_coupling_map_params, serialized_coupling_map_params)"
   ]
  },
  {
   "cell_type": "code",
   "execution_count": null,
   "metadata": {},
   "outputs": [],
   "source": [
    "# set initial condition\n",
    "sys.ic = np.array(reloaded_test_params[\"ic\"])\n",
    "print(\"initial condition: \", sys.ic)\n",
    "\n",
    "if not sys.has_jacobian():\n",
    "    print(f\"Jacobian not implemented for {test_system_name}\")\n",
    "else:\n",
    "    print(f\"Jacobian implemented for {test_system_name}\")\n",
    "    print(f\"Jacobian shape: {sys.jac(sys.ic, 0).shape}\")\n",
    "    print(f\"Jacobian: {sys.jac(sys.ic, 0)}\")"
   ]
  },
  {
   "cell_type": "code",
   "execution_count": null,
   "metadata": {},
   "outputs": [],
   "source": [
    "test_system_jacobian(\n",
    "    sys,\n",
    "    num_timesteps=5120,\n",
    "    num_periods=50,\n",
    "    transient=200,\n",
    "    n_points_sample=10,\n",
    "    eps=1e-8,\n",
    ")"
   ]
  },
  {
   "cell_type": "code",
   "execution_count": null,
   "metadata": {},
   "outputs": [],
   "source": [
    "num_timesteps = 5120\n",
    "num_periods = 50\n",
    "\n",
    "ts, traj = sys.make_trajectory(\n",
    "    num_timesteps,\n",
    "    pts_per_period=num_timesteps // num_periods,\n",
    "    return_times=True,\n",
    "    atol=1e-10,\n",
    "    rtol=1e-8,\n",
    ")"
   ]
  },
  {
   "cell_type": "code",
   "execution_count": null,
   "metadata": {},
   "outputs": [],
   "source": [
    "transient_frac = 0.2\n",
    "transient_length = int(transient_frac * num_timesteps)\n",
    "trajectory = traj[None, transient_length:, :]\n",
    "print(trajectory.shape)\n",
    "trajectory_to_plot = trajectory.transpose(0, 2, 1)\n",
    "driver_coords = trajectory_to_plot[:, : sys.driver_dim, :]\n",
    "response_coords = trajectory_to_plot[:, sys.driver_dim :, :]\n",
    "for name, coords in [\n",
    "    (\"driver\", driver_coords),\n",
    "    (\"response\", response_coords),\n",
    "]:\n",
    "    plot_grid_trajs_multivariate(\n",
    "        # {f\"{test_system_name} {name}\": coords},\n",
    "        {name: coords},\n",
    "        save_path=None,\n",
    "        subplot_size=(4, 4),\n",
    "        show_axes=True,\n",
    "        show_titles=True,\n",
    "        plot_projections=True,\n",
    "        projections_alpha=0.08,\n",
    "        plot_kwargs={\"linewidth\": 0.3},\n",
    "    )"
   ]
  },
  {
   "cell_type": "markdown",
   "metadata": {},
   "source": [
    "### Check that saved trajectory is close to re-computed trajectory"
   ]
  },
  {
   "cell_type": "code",
   "execution_count": null,
   "metadata": {},
   "outputs": [],
   "source": [
    "saved_traj = test_dyst_traj\n",
    "reloaded_traj = response_coords.squeeze()\n",
    "\n",
    "assert saved_traj.shape == reloaded_traj.shape, (\n",
    "    f\"saved_traj.shape: {saved_traj.shape}, reloaded_traj.shape: {reloaded_traj.shape}\"\n",
    ")\n",
    "\n",
    "mse = np.mean((saved_traj - reloaded_traj) ** 2)\n",
    "rmse = np.sqrt(mse)\n",
    "print(f\"MSE: {mse}\")\n",
    "print(f\"RMSE: {rmse}\")"
   ]
  },
  {
   "cell_type": "markdown",
   "metadata": {},
   "source": [
    "### Integrate Pure Response"
   ]
  },
  {
   "cell_type": "markdown",
   "metadata": {},
   "source": [
    "Response without the Driver"
   ]
  },
  {
   "cell_type": "code",
   "execution_count": null,
   "metadata": {},
   "outputs": [],
   "source": [
    "sys.driver_dim"
   ]
  },
  {
   "cell_type": "code",
   "execution_count": null,
   "metadata": {},
   "outputs": [],
   "source": [
    "response_ic = reloaded_test_params[\"ic\"][sys.driver_dim :]\n",
    "print(f\"response_ic: {response_ic}\")"
   ]
  },
  {
   "cell_type": "code",
   "execution_count": null,
   "metadata": {},
   "outputs": [],
   "source": [
    "pure_response_sys = getattr(flows, response_name)(\n",
    "    parameters=reloaded_test_params[\"response_params\"]\n",
    ")\n",
    "print(pure_response_sys.__dict__.keys())\n",
    "print(pure_response_sys.__dict__[\"param_list\"])\n",
    "print(pure_response_sys.__dict__[\"params\"])"
   ]
  },
  {
   "cell_type": "code",
   "execution_count": null,
   "metadata": {},
   "outputs": [],
   "source": [
    "pure_response_sys.__dict__"
   ]
  },
  {
   "cell_type": "code",
   "execution_count": null,
   "metadata": {},
   "outputs": [],
   "source": [
    "# set initial condition\n",
    "pure_response_sys.ic = np.array(response_ic)\n",
    "print(pure_response_sys.ic)\n",
    "\n",
    "if not pure_response_sys.has_jacobian():\n",
    "    print(f\"Jacobian not implemented for {response_name}\")\n",
    "else:\n",
    "    print(f\"Jacobian implemented for {response_name}\")\n",
    "    # print(f\"Jacobian shape: {pure_response_sys.jac(pure_response_sys.ic, 0).shape}\")\n",
    "    print(f\"Jacobian: {pure_response_sys.jac(pure_response_sys.ic, 0)}\")"
   ]
  },
  {
   "cell_type": "code",
   "execution_count": null,
   "metadata": {},
   "outputs": [],
   "source": [
    "# Check Jacobian of reconstructed pure response\n",
    "test_system_jacobian(\n",
    "    pure_response_sys,\n",
    "    num_timesteps=5120,\n",
    "    num_periods=50,\n",
    "    transient=200,\n",
    "    n_points_sample=10,\n",
    "    eps=1e-8,\n",
    ")"
   ]
  },
  {
   "cell_type": "code",
   "execution_count": null,
   "metadata": {},
   "outputs": [],
   "source": [
    "num_timesteps = 5120\n",
    "num_periods = 50\n",
    "\n",
    "pure_response_ts, pure_response_traj = pure_response_sys.make_trajectory(\n",
    "    num_timesteps,\n",
    "    pts_per_period=num_timesteps // num_periods,\n",
    "    return_times=True,\n",
    "    atol=1e-10,\n",
    "    rtol=1e-8,\n",
    ")"
   ]
  },
  {
   "cell_type": "code",
   "execution_count": null,
   "metadata": {},
   "outputs": [],
   "source": [
    "pure_response_traj.shape"
   ]
  },
  {
   "cell_type": "code",
   "execution_count": null,
   "metadata": {},
   "outputs": [],
   "source": [
    "plot_grid_trajs_multivariate(\n",
    "    {response_name: pure_response_traj.T[None, :, :]},\n",
    "    save_path=None,\n",
    "    subplot_size=(4, 4),\n",
    "    show_axes=True,\n",
    "    show_titles=True,\n",
    "    plot_projections=True,\n",
    "    projections_alpha=0.08,\n",
    "    plot_kwargs={\"linewidth\": 0.3},\n",
    ")"
   ]
  },
  {
   "cell_type": "markdown",
   "metadata": {},
   "source": [
    "### Remake Skew Trajectory with new IC"
   ]
  },
  {
   "cell_type": "code",
   "execution_count": null,
   "metadata": {},
   "outputs": [],
   "source": [
    "traj.shape"
   ]
  },
  {
   "cell_type": "code",
   "execution_count": null,
   "metadata": {},
   "outputs": [],
   "source": [
    "print(f\"Old initial condition: \\n {sys.ic}\")"
   ]
  },
  {
   "cell_type": "code",
   "execution_count": null,
   "metadata": {},
   "outputs": [],
   "source": [
    "n_timesteps = traj.shape[0]\n",
    "n_dims = traj.shape[1]\n",
    "new_ic_idx = rng.integers(0, n_timesteps, size=n_dims)\n",
    "new_ic = np.array([traj[new_ic_idx[i], i] for i in range(n_dims)])\n",
    "print(f\"New initial condition: \\n {new_ic}\")"
   ]
  },
  {
   "cell_type": "code",
   "execution_count": null,
   "metadata": {},
   "outputs": [],
   "source": [
    "sys.ic = new_ic\n",
    "\n",
    "if not sys.has_jacobian():\n",
    "    print(f\"Jacobian not implemented for {test_system_name}\")\n",
    "\n",
    "num_timesteps = 5120\n",
    "num_periods = 50\n",
    "\n",
    "ts, traj = sys.make_trajectory(\n",
    "    num_timesteps,\n",
    "    pts_per_period=num_timesteps // num_periods,\n",
    "    return_times=True,\n",
    "    atol=1e-10,\n",
    "    rtol=1e-8,\n",
    ")"
   ]
  },
  {
   "cell_type": "code",
   "execution_count": null,
   "metadata": {},
   "outputs": [],
   "source": [
    "trajectory = traj[None, transient_length:, :]\n",
    "print(trajectory.shape)\n",
    "trajectory_to_plot = trajectory.transpose(0, 2, 1)\n",
    "driver_coords = trajectory_to_plot[:, : sys.driver_dim, :]\n",
    "response_coords = trajectory_to_plot[:, sys.driver_dim :, :]\n",
    "for name, coords in [\n",
    "    (\"driver\", driver_coords),\n",
    "    (\"response\", response_coords),\n",
    "]:\n",
    "    plot_grid_trajs_multivariate(\n",
    "        {name: coords},\n",
    "        save_path=None,\n",
    "        subplot_size=(4, 4),\n",
    "        plot_kwargs={\"linewidth\": 0.3},\n",
    "        show_axes=True,\n",
    "        show_titles=True,\n",
    "        plot_projections=True,\n",
    "        projections_alpha=0.08,\n",
    "    )"
   ]
  },
  {
   "cell_type": "code",
   "execution_count": null,
   "metadata": {},
   "outputs": [],
   "source": []
  }
 ],
 "metadata": {
  "kernelspec": {
   "display_name": "dystformer",
   "language": "python",
   "name": "python3"
  },
  "language_info": {
   "codemirror_mode": {
    "name": "ipython",
    "version": 3
   },
   "file_extension": ".py",
   "mimetype": "text/x-python",
   "name": "python",
   "nbconvert_exporter": "python",
   "pygments_lexer": "ipython3",
   "version": "3.10.14"
  }
 },
 "nbformat": 4,
 "nbformat_minor": 2
}
