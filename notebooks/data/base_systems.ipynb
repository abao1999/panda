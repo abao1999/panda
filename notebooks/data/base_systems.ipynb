{
 "cells": [
  {
   "cell_type": "code",
   "execution_count": null,
   "id": "0",
   "metadata": {},
   "outputs": [],
   "source": [
    "import os\n",
    "\n",
    "from panda.utils import load_trajectory_from_arrow"
   ]
  },
  {
   "cell_type": "code",
   "execution_count": null,
   "id": "1",
   "metadata": {},
   "outputs": [],
   "source": [
    "work_dir = os.environ[\"WORK\"]\n",
    "data_dirs = [\n",
    "    f\"{work_dir}/data/improved/final_base40/train\",\n",
    "    f\"{work_dir}/data/improved/final_base40/train_z5_z10\",\n",
    "    f\"{work_dir}/data/improved/final_base40/test_zeroshot\",\n",
    "    f\"{work_dir}/data/improved/final_base40/test_zeroshot_z5_z10\",\n",
    "]\n",
    "\n",
    "all_subdirs = set()\n",
    "for data_dir in data_dirs:\n",
    "    all_subdirs.update(os.listdir(data_dir))\n",
    "print(all_subdirs)\n",
    "print(len(all_subdirs))"
   ]
  },
  {
   "cell_type": "code",
   "execution_count": null,
   "id": "2",
   "metadata": {},
   "outputs": [],
   "source": [
    "arrow_files_sample0 = []\n",
    "for data_dir in data_dirs:\n",
    "    for subdir in os.listdir(data_dir):\n",
    "        file_path = os.path.join(data_dir, subdir, \"0_T-4096.arrow\")\n",
    "        if os.path.isfile(file_path):\n",
    "            arrow_files_sample0.append(file_path)\n",
    "\n",
    "print(len(arrow_files_sample0))"
   ]
  },
  {
   "cell_type": "code",
   "execution_count": null,
   "id": "3",
   "metadata": {},
   "outputs": [],
   "source": [
    "names = list(map(lambda path: path.split(\"/\")[-2]))\n",
    "trajectories = [load_trajectory_from_arrow(path)[0] for path in arrow_files_sample0]"
   ]
  },
  {
   "cell_type": "code",
   "execution_count": null,
   "id": "4",
   "metadata": {},
   "outputs": [],
   "source": []
  }
 ],
 "metadata": {
  "kernelspec": {
   "display_name": "panda",
   "language": "python",
   "name": "python3"
  },
  "language_info": {
   "codemirror_mode": {
    "name": "ipython",
    "version": 3
   },
   "file_extension": ".py",
   "mimetype": "text/x-python",
   "name": "python",
   "nbconvert_exporter": "python",
   "pygments_lexer": "ipython3",
   "version": "3.11.9"
  }
 },
 "nbformat": 4,
 "nbformat_minor": 5
}
